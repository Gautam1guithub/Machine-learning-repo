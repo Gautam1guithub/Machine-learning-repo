{
 "cells": [
  {
   "cell_type": "code",
   "execution_count": null,
   "id": "766e3ec3",
   "metadata": {},
   "outputs": [],
   "source": [
    "import pandas as pd\n",
    "import numpy as np"
   ]
  },
  {
   "cell_type": "code",
   "execution_count": null,
   "id": "c04aeee1",
   "metadata": {},
   "outputs": [],
   "source": [
    "from sklearn.database import make_regression\n"
   ]
  },
  {
   "cell_type": "code",
   "execution_count": null,
   "id": "610e84ef",
   "metadata": {},
   "outputs": [],
   "source": [
    "X,y =make_regression(n_samples =4, n_features =1,\n",
    "                     n_informative =1 ,\n",
    "                     n_targets =1 ,\n",
    "                     noise =80 , random_state =13)"
   ]
  },
  {
   "cell_type": "code",
   "execution_count": null,
   "id": "935dafd9",
   "metadata": {},
   "outputs": [],
   "source": [
    "import matplotlib.pyplot as plt\n",
    "plt.scatter(x,y)"
   ]
  },
  {
   "cell_type": "code",
   "execution_count": null,
   "id": "198ab8d3",
   "metadata": {},
   "outputs": [],
   "source": [
    "# lets apply OLs\n",
    "\n",
    "from sklearn.linear_model import LinearRegression"
   ]
  },
  {
   "cell_type": "code",
   "execution_count": null,
   "id": "afcf8593",
   "metadata": {},
   "outputs": [],
   "source": [
    "reg =LinearRegression()\n",
    "reg.fit(X,y)"
   ]
  },
  {
   "cell_type": "code",
   "execution_count": null,
   "id": "257fc1ca",
   "metadata": {},
   "outputs": [],
   "source": [
    "LinearRegression(copy_X = True ,\n",
    "fit_intercept = True ,\n",
    "n jobs = None"
   ]
  },
  {
   "cell_type": "code",
   "execution_count": null,
   "id": "e7116486",
   "metadata": {},
   "outputs": [],
   "source": [
    "reg.coef_   #mslope"
   ]
  },
  {
   "cell_type": "code",
   "execution_count": null,
   "id": "d9cc5cdc",
   "metadata": {},
   "outputs": [],
   "source": [
    "reg.intercept_         #b"
   ]
  },
  {
   "cell_type": "code",
   "execution_count": null,
   "id": "d8dff5d2",
   "metadata": {},
   "outputs": [],
   "source": [
    "plt.scatter(X,y)\n",
    "plt.plot(X, reg.predict(X) ,color ='red')"
   ]
  },
  {
   "cell_type": "markdown",
   "id": "3a990ca5",
   "metadata": {},
   "source": [
    "Let's apply gredient Descent assuming slope is\n",
    "comstant =78.35\n",
    "and Lets assume the starting value for\n",
    "intercept b =0"
   ]
  },
  {
   "cell_type": "code",
   "execution_count": null,
   "id": "ba8d5e31",
   "metadata": {},
   "outputs": [],
   "source": [
    "y_pred =((78.35*X)+0).reshape(4)  # y =m*x+b"
   ]
  },
  {
   "cell_type": "code",
   "execution_count": null,
   "id": "a69338c1",
   "metadata": {},
   "outputs": [],
   "source": [
    "plt.scatter(X,y)\n",
    "plt.plot(X ,reg.predict(X) ,color ='red'\n",
    "         label ='OLS') \n"
   ]
  },
  {
   "cell_type": "code",
   "execution_count": null,
   "id": "f688569e",
   "metadata": {},
   "outputs": [],
   "source": [
    "m =78.35\n",
    "b =0\n",
    "loss_slope =-2*np.sum(y -m*X.ravel()-b)   ###dt/db\n",
    "loss_slope"
   ]
  },
  {
   "cell_type": "code",
   "execution_count": null,
   "id": "71d876dd",
   "metadata": {},
   "outputs": [],
   "source": [
    "# Let's take learning rate =0.1\n",
    "\n",
    "lr =0.1\n",
    "step_size =loss_slope*lr\n",
    "step_size"
   ]
  },
  {
   "cell_type": "code",
   "execution_count": null,
   "id": "5a549e64",
   "metadata": {},
   "outputs": [],
   "source": [
    "# claculating the new intercept\n",
    "\n",
    "b =b.step_size     ## b_new =b_old-learning_rate *dl/db\n",
    "b"
   ]
  },
  {
   "cell_type": "code",
   "execution_count": null,
   "id": "35e6d50e",
   "metadata": {},
   "outputs": [],
   "source": [
    "y_pred1 =((78.35*X)+b).reshape(4)\n",
    "\n",
    "plt.scatter(X,y)\n",
    "plt.plot(X, reg.predict(X),color ='black' ,label ='ols')\n",
    "plt.plot(X ,y_pred1 ,color ='red' ,label ='b ={}'.format(b))\n",
    "plt.plot(X,y_pred ,color ='yellow' ,label ='b' ='0')\n",
    "plt.legend()\n",
    "plt.show()"
   ]
  },
  {
   "cell_type": "code",
   "execution_count": null,
   "id": "0b6f8923",
   "metadata": {},
   "outputs": [],
   "source": [
    "# iteration 2\n",
    "\n",
    "loss_slope =-2*np.sum(y =mX.travel() -b)\n",
    "loss_slope"
   ]
  },
  {
   "cell_type": "code",
   "execution_count": null,
   "id": "21499e9f",
   "metadata": {},
   "outputs": [],
   "source": [
    "step_size =loss_slope*lr\n",
    "step_size"
   ]
  },
  {
   "cell_type": "code",
   "execution_count": null,
   "id": "3189e4eb",
   "metadata": {},
   "outputs": [],
   "source": [
    "b =b -step_size"
   ]
  },
  {
   "cell_type": "code",
   "execution_count": null,
   "id": "5b706e1a",
   "metadata": {},
   "outputs": [],
   "source": [
    "y_pred2 =((78.35*X)+b).reshape(4)\n",
    "\n",
    "plt.scatter(X,y)\n",
    "plt.plot(X ,reg.predict(X) ,color ='red' ,label ='OLS')\n"
   ]
  },
  {
   "cell_type": "code",
   "execution_count": null,
   "id": "6497bf4c",
   "metadata": {},
   "outputs": [],
   "source": [
    "# Iteration  -3\n",
    "\n",
    "loss_slope =-2*np.sum(y =m*X.ravel() -b)\n",
    "loss_slope"
   ]
  },
  {
   "cell_type": "code",
   "execution_count": null,
   "id": "e857e64e",
   "metadata": {},
   "outputs": [],
   "source": [
    "step_size =loss_slope*lr\n",
    "step_size"
   ]
  },
  {
   "cell_type": "code",
   "execution_count": null,
   "id": "72e42ea8",
   "metadata": {},
   "outputs": [],
   "source": [
    "b =b -step_size\n",
    "b"
   ]
  },
  {
   "cell_type": "code",
   "execution_count": null,
   "id": "d22f1fd2",
   "metadata": {},
   "outputs": [],
   "source": [
    "y_pred3 =((78.35*X)+b).reshape(4)\n",
    "\n",
    "\n",
    "plt.scatter(X,y)\n",
    "plt.plot(X, reg.predict(X),color ='red' ,label ='ols')\n",
    "plt.plot(X ,y_pred3 ,color ='brown',label ='OLS')\n",
    "plt.plot(X ,y_pred2 ,color ='green' ,label ='b ={}'.format(b))\n",
    "plt.plot(X ,y_pred1 ,color ='blue' ,label ='b ={}'.format(b))\n",
    "plt.plot(X,y_pred ,color ='yellow' ,label ='b' ='0')\n",
    "plt.legend()\n",
    "plt.show()"
   ]
  },
  {
   "cell_type": "code",
   "execution_count": null,
   "id": "10368f55",
   "metadata": {},
   "outputs": [],
   "source": [
    "# Example\n",
    "\n",
    "# if i have a b  =100 randomly"
   ]
  },
  {
   "cell_type": "code",
   "execution_count": null,
   "id": "79e5713b",
   "metadata": {},
   "outputs": [],
   "source": [
    "# Let's apply gradient Descent assuming slopr is constant =78.35\n",
    "# and ;et's assume the starting value for intercept b =100\n",
    "y_pred =((78.35*X)+100).reshape(4)"
   ]
  },
  {
   "cell_type": "code",
   "execution_count": null,
   "id": "daaa0b7d",
   "metadata": {},
   "outputs": [],
   "source": [
    "m =78.35\n",
    "b =100\n",
    "loss_slope =-2*np.sum(y -m*X.ravel()-b)\n",
    "loss_slope"
   ]
  },
  {
   "cell_type": "code",
   "execution_count": null,
   "id": "03603063",
   "metadata": {},
   "outputs": [],
   "source": [
    "# Let's take learning rate =0.1\n",
    "\n",
    "lr =0.1\n",
    "step_size =loss_slope*lr\n",
    "step_size"
   ]
  },
  {
   "cell_type": "code",
   "execution_count": null,
   "id": "c9e1143e",
   "metadata": {},
   "outputs": [],
   "source": [
    "# calculating the new intercept\n",
    "\n",
    "b =b-step_size\n",
    "b"
   ]
  },
  {
   "cell_type": "code",
   "execution_count": null,
   "id": "4a2bb151",
   "metadata": {},
   "outputs": [],
   "source": [
    "y_pred =((78.35*X)+b).reshape(4)\n",
    "\n",
    "plt.scatter(X,y)\n",
    "plt.plot(X, reg.predict(X),color ='black' ,label ='ols')\n",
    "plt.plot(X ,y_pred1 ,color ='red' ,label ='b ={}'.format(b))\n",
    "plt.plot(X,y_pred ,color ='yellow' ,label ='b' ='0')\n",
    "plt.legend()\n",
    "plt.show()"
   ]
  },
  {
   "cell_type": "code",
   "execution_count": null,
   "id": "33aeacd6",
   "metadata": {},
   "outputs": [],
   "source": [
    "iteration -2\n",
    "\n",
    "loss_slope =-2*np.sum(y -m*X.ravel()-b)\n",
    "loss_slope"
   ]
  },
  {
   "cell_type": "code",
   "execution_count": null,
   "id": "41cab98a",
   "metadata": {},
   "outputs": [],
   "source": [
    "step_size =loss_slope*lr\n",
    "step_size"
   ]
  },
  {
   "cell_type": "code",
   "execution_count": null,
   "id": "66ba5cde",
   "metadata": {},
   "outputs": [],
   "source": [
    "b =b-step_size\n",
    "b"
   ]
  },
  {
   "cell_type": "code",
   "execution_count": null,
   "id": "5dd82f27",
   "metadata": {},
   "outputs": [],
   "source": [
    "y_pred =((78.35*X)+b).reshape(4)\n",
    "\n",
    "plt.scatter(X,y)\n",
    "plt.plot(X, reg.predict(X),color ='black' ,label ='ols')\n",
    "plt.plot(X ,y_pred1 ,color ='red' ,label ='b ={}'.format(b))\n",
    "plt.plot(X,y_pred ,color ='yellow' ,label ='b' ='0')\n",
    "plt.legend()\n",
    "plt.show()"
   ]
  },
  {
   "cell_type": "code",
   "execution_count": null,
   "id": "b432403a",
   "metadata": {},
   "outputs": [],
   "source": [
    "# Iteration -3\n",
    "\n",
    "loss_slope =-2*np.sum(y -m*X.ravel()-b)\n",
    "loss_slope"
   ]
  },
  {
   "cell_type": "code",
   "execution_count": null,
   "id": "830075f6",
   "metadata": {},
   "outputs": [],
   "source": [
    "step_size =loss_slope*lr\n",
    "step_size"
   ]
  },
  {
   "cell_type": "code",
   "execution_count": null,
   "id": "fe535f53",
   "metadata": {},
   "outputs": [],
   "source": [
    "b =b-step_size\n",
    "b"
   ]
  },
  {
   "cell_type": "code",
   "execution_count": null,
   "id": "a9e60050",
   "metadata": {},
   "outputs": [],
   "source": []
  }
 ],
 "metadata": {
  "kernelspec": {
   "display_name": "base",
   "language": "python",
   "name": "python3"
  },
  "language_info": {
   "name": "python",
   "version": "3.12.7"
  }
 },
 "nbformat": 4,
 "nbformat_minor": 5
}
