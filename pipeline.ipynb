{
 "cells": [
  {
   "cell_type": "code",
   "execution_count": null,
   "metadata": {},
   "outputs": [],
   "source": [
    "# data ==> separate(categorical data to numerical data)==>\n",
    "# categorical data ==> SimplerImputer fill ==> Encode\n",
    "# numerical data ==> SimpleImputer fill ==> Standardize\n",
    "\n",
    "\n",
    "# apply == Algorithm(logicalImputer)"
   ]
  },
  {
   "cell_type": "code",
   "execution_count": null,
   "metadata": {},
   "outputs": [],
   "source": [
    "from sklearn.compose import ColumnTransformer\n",
    "from sklearn.pipeline import Pipeline\n",
    "from sklearn.preprocessing import StandardScaler ,OneHotEncoder\n",
    "from sklearn.model_selection import train_test_split \n",
    "from sklearn.model.linear_model import LogisticRegression\n",
    "from sklearn.impute import SimpleImputer"
   ]
  },
  {
   "cell_type": "code",
   "execution_count": null,
   "metadata": {},
   "outputs": [],
   "source": [
    "x = df.drop(coluns = ['has_covid'])\n",
    "y = df['has_covid']\n",
    "x_train , x_test , y_train , y_test = train_test_split(x , y , test_size = 0.2                                                  \n"
   ]
  },
  {
   "cell_type": "code",
   "execution_count": null,
   "metadata": {},
   "outputs": [],
   "source": [
    "# define the columns that need to be preprocessing\n",
    "\n",
    "categorical_features = ['gender','city']\n",
    "numeric_features = ['age','fever']\n"
   ]
  },
  {
   "cell_type": "code",
   "execution_count": null,
   "metadata": {},
   "outputs": [],
   "source": []
  },
  {
   "cell_type": "code",
   "execution_count": null,
   "metadata": {},
   "outputs": [],
   "source": [
    "# create transformer\n",
    "numeric_transformer = Pipelne(steps=[\n",
    "    ('impute',SimpleImputer(strategy = 'most_frequent')),\n",
    "    ('scale',StandardScaler())\n",
    "    ])\n",
    "\n",
    "categoricall _transformer = Pipelne(steps=[\n",
    "    ('impute',SimpleImputer(strategy = 'most_frequent')),\n",
    "    ('onehot',OneHotEncoder(handle_unknown='ignore'))\n",
    "    ])\n",
    "\n",
    "# create the pipeline\n",
    "clf =Pipeline(steps=('preprocessor',preprocessor),\n",
    "              ('classifier',LogisticRegression())])\n",
    "\n",
    "# create the pipeline\n",
    "clf = Pipeline(steps=('preprocessor',preprocessor),\n",
    "               ('classifier',LogisticRegression())])\n",
    "\n",
    "# train the model\n",
    "clf.fit(X_train, y_train)\n",
    "\n",
    "# Evalute the model\n",
    "y_pred = clf.predict(X_test)"
   ]
  },
  {
   "cell_type": "code",
   "execution_count": null,
   "metadata": {},
   "outputs": [],
   "source": [
    "# y pred"
   ]
  },
  {
   "cell_type": "code",
   "execution_count": null,
   "metadata": {},
   "outputs": [],
   "source": [
    "from sklearn.metrics import accuracy_score"
   ]
  },
  {
   "cell_type": "code",
   "execution_count": null,
   "metadata": {},
   "outputs": [],
   "source": [
    "acc = accuracy_score(y_test ,y_pred)"
   ]
  },
  {
   "cell_type": "code",
   "execution_count": null,
   "metadata": {},
   "outputs": [],
   "source": [
    "acc"
   ]
  },
  {
   "cell_type": "code",
   "execution_count": null,
   "metadata": {},
   "outputs": [],
   "source": [
    "# do it tips data in which we do it on time data['lunch','dinner']"
   ]
  }
 ],
 "metadata": {
  "language_info": {
   "name": "python"
  }
 },
 "nbformat": 4,
 "nbformat_minor": 2
}
