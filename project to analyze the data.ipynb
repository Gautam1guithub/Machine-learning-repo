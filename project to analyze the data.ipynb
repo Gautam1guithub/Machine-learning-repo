{
 "cells": [
  {
   "cell_type": "markdown",
   "metadata": {},
   "source": [
    "# We have a dataset in which the we have a year vise that how the  AI impact on the countries  and how the countries use it to incrase their\n",
    "# sales and productivity now we Analyze it in a very simple way that how it impact in our generation "
   ]
  },
  {
   "cell_type": "code",
   "execution_count": 34,
   "metadata": {},
   "outputs": [],
   "source": [
    "import pandas as pd\n",
    "import numpy as np \n"
   ]
  },
  {
   "cell_type": "code",
   "execution_count": 35,
   "metadata": {},
   "outputs": [],
   "source": [
    "import matplotlib.pyplot as plt\n",
    "import seaborn as sns\n",
    "import plotly.express as px"
   ]
  },
  {
   "cell_type": "code",
   "execution_count": 36,
   "metadata": {},
   "outputs": [
    {
     "data": {
      "text/html": [
       "<div>\n",
       "<style scoped>\n",
       "    .dataframe tbody tr th:only-of-type {\n",
       "        vertical-align: middle;\n",
       "    }\n",
       "\n",
       "    .dataframe tbody tr th {\n",
       "        vertical-align: top;\n",
       "    }\n",
       "\n",
       "    .dataframe thead th {\n",
       "        text-align: right;\n",
       "    }\n",
       "</style>\n",
       "<table border=\"1\" class=\"dataframe\">\n",
       "  <thead>\n",
       "    <tr style=\"text-align: right;\">\n",
       "      <th></th>\n",
       "      <th>Country</th>\n",
       "      <th>Year</th>\n",
       "      <th>Industry</th>\n",
       "      <th>AI Adoption Rate (%)</th>\n",
       "      <th>AI-Generated Content Volume (TBs per year)</th>\n",
       "      <th>Job Loss Due to AI (%)</th>\n",
       "      <th>Revenue Increase Due to AI (%)</th>\n",
       "      <th>Human-AI Collaboration Rate (%)</th>\n",
       "      <th>Top AI Tools Used</th>\n",
       "      <th>Regulation Status</th>\n",
       "      <th>Consumer Trust in AI (%)</th>\n",
       "      <th>Market Share of AI Companies (%)</th>\n",
       "    </tr>\n",
       "  </thead>\n",
       "  <tbody>\n",
       "    <tr>\n",
       "      <th>0</th>\n",
       "      <td>South Korea</td>\n",
       "      <td>2022</td>\n",
       "      <td>Media</td>\n",
       "      <td>44.29</td>\n",
       "      <td>33.09</td>\n",
       "      <td>16.77</td>\n",
       "      <td>46.12</td>\n",
       "      <td>74.79</td>\n",
       "      <td>Bard</td>\n",
       "      <td>Strict</td>\n",
       "      <td>40.77</td>\n",
       "      <td>18.73</td>\n",
       "    </tr>\n",
       "    <tr>\n",
       "      <th>1</th>\n",
       "      <td>China</td>\n",
       "      <td>2025</td>\n",
       "      <td>Legal</td>\n",
       "      <td>34.75</td>\n",
       "      <td>66.74</td>\n",
       "      <td>46.89</td>\n",
       "      <td>52.46</td>\n",
       "      <td>26.17</td>\n",
       "      <td>DALL-E</td>\n",
       "      <td>Strict</td>\n",
       "      <td>35.67</td>\n",
       "      <td>35.02</td>\n",
       "    </tr>\n",
       "    <tr>\n",
       "      <th>2</th>\n",
       "      <td>USA</td>\n",
       "      <td>2022</td>\n",
       "      <td>Automotive</td>\n",
       "      <td>81.06</td>\n",
       "      <td>96.13</td>\n",
       "      <td>10.66</td>\n",
       "      <td>45.60</td>\n",
       "      <td>39.66</td>\n",
       "      <td>Stable Diffusion</td>\n",
       "      <td>Moderate</td>\n",
       "      <td>54.47</td>\n",
       "      <td>22.76</td>\n",
       "    </tr>\n",
       "    <tr>\n",
       "      <th>3</th>\n",
       "      <td>France</td>\n",
       "      <td>2021</td>\n",
       "      <td>Legal</td>\n",
       "      <td>85.24</td>\n",
       "      <td>93.76</td>\n",
       "      <td>27.70</td>\n",
       "      <td>78.24</td>\n",
       "      <td>29.45</td>\n",
       "      <td>Claude</td>\n",
       "      <td>Moderate</td>\n",
       "      <td>51.84</td>\n",
       "      <td>1.93</td>\n",
       "    </tr>\n",
       "    <tr>\n",
       "      <th>4</th>\n",
       "      <td>France</td>\n",
       "      <td>2021</td>\n",
       "      <td>Gaming</td>\n",
       "      <td>78.95</td>\n",
       "      <td>45.62</td>\n",
       "      <td>17.45</td>\n",
       "      <td>1.05</td>\n",
       "      <td>21.70</td>\n",
       "      <td>Midjourney</td>\n",
       "      <td>Strict</td>\n",
       "      <td>41.77</td>\n",
       "      <td>21.41</td>\n",
       "    </tr>\n",
       "  </tbody>\n",
       "</table>\n",
       "</div>"
      ],
      "text/plain": [
       "       Country  Year    Industry  AI Adoption Rate (%)  \\\n",
       "0  South Korea  2022       Media                 44.29   \n",
       "1        China  2025       Legal                 34.75   \n",
       "2          USA  2022  Automotive                 81.06   \n",
       "3       France  2021       Legal                 85.24   \n",
       "4       France  2021      Gaming                 78.95   \n",
       "\n",
       "   AI-Generated Content Volume (TBs per year)  Job Loss Due to AI (%)  \\\n",
       "0                                       33.09                   16.77   \n",
       "1                                       66.74                   46.89   \n",
       "2                                       96.13                   10.66   \n",
       "3                                       93.76                   27.70   \n",
       "4                                       45.62                   17.45   \n",
       "\n",
       "   Revenue Increase Due to AI (%)  Human-AI Collaboration Rate (%)  \\\n",
       "0                           46.12                            74.79   \n",
       "1                           52.46                            26.17   \n",
       "2                           45.60                            39.66   \n",
       "3                           78.24                            29.45   \n",
       "4                            1.05                            21.70   \n",
       "\n",
       "  Top AI Tools Used Regulation Status  Consumer Trust in AI (%)  \\\n",
       "0              Bard            Strict                     40.77   \n",
       "1            DALL-E            Strict                     35.67   \n",
       "2  Stable Diffusion          Moderate                     54.47   \n",
       "3            Claude          Moderate                     51.84   \n",
       "4        Midjourney            Strict                     41.77   \n",
       "\n",
       "   Market Share of AI Companies (%)  \n",
       "0                             18.73  \n",
       "1                             35.02  \n",
       "2                             22.76  \n",
       "3                              1.93  \n",
       "4                             21.41  "
      ]
     },
     "execution_count": 36,
     "metadata": {},
     "output_type": "execute_result"
    }
   ],
   "source": [
    "df =pd.read_csv(\"C:\\\\Users\\\\ADMIN\\\\Desktop\\\\New folder\\\\Global_AI_Content_Impact_Dataset.csv\")\n",
    "df.head()"
   ]
  },
  {
   "cell_type": "markdown",
   "metadata": {},
   "source": [
    "#  now we Calculate average revenue increase due to AI by country\n"
   ]
  },
  {
   "cell_type": "code",
   "execution_count": 37,
   "metadata": {},
   "outputs": [
    {
     "data": {
      "image/png": "[encoded data removed]",
      "text/plain": [
       "<Figure size 1000x600 with 1 Axes>"
      ]
     },
     "metadata": {},
     "output_type": "display_data"
    }
   ],
   "source": [
    "country_revenue = df.groupby(\"Country\")[\"Revenue Increase Due to AI (%)\"].mean().sort_values(ascending=False)\n",
    "\n",
    "# Create the bar chart\n",
    "plt.figure(figsize=(10, 6))\n",
    "sns.barplot(x=country_revenue.index, y=country_revenue.values)\n",
    "\n",
    "# Customize the plot\n",
    "\n",
    "plt.xlabel(\"Country\")\n",
    "plt.ylabel(\"Average Revenue Increase Due to AI (%)\")\n",
    "plt.title(\"Average Revenue Increase Due to AI by Country\")\n",
    "\n",
    "# Show the plot\n",
    "plt.show()\n",
    "\n",
    "\n",
    "# The least revenue increase by country is south_korea\n",
    "# and the most reveue generate by AI is Australia\n"
   ]
  },
  {
   "cell_type": "markdown",
   "metadata": {},
   "source": [
    "# Now we calculate the joblosses due to AI in the respective countries"
   ]
  },
  {
   "cell_type": "code",
   "execution_count": 38,
   "metadata": {},
   "outputs": [
    {
     "data": {
      "image/png": "[encoded data removed]",
      "text/plain": [
       "<Figure size 1000x600 with 1 Axes>"
      ]
     },
     "metadata": {},
     "output_type": "display_data"
    }
   ],
   "source": [
    "# Recalculate country_impact in case it's undefined\n",
    "impact_metrics = [\"Job Loss Due to AI (%)\", \"Revenue Increase Due to AI (%)\", \n",
    "                  \"Consumer Trust in AI (%)\", \"Human-AI Collaboration Rate (%)\"]\n",
    "country_impact = df.groupby(\"Country\")[impact_metrics].mean()\n",
    "\n",
    "# Plot Job Loss Due to AI by Country\n",
    "plt.figure(figsize=(10, 6))\n",
    "sns.barplot(x=country_impact.index, y=country_impact[\"Job Loss Due to AI (%)\"])\n",
    "\n",
    "# Customize the plot\n",
    "plt.xlabel(\"Country\")\n",
    "plt.ylabel(\"Job Loss Due to AI (%)\")\n",
    "plt.title(\"Job Loss Due to AI by Country\")\n",
    "plt.xticks(rotation=45, ha='right')\n",
    "\n",
    "# Show the plot\n",
    "plt.show()\n",
    "\n",
    "\n",
    "# Australia are very much effected by AI\n"
   ]
  },
  {
   "cell_type": "markdown",
   "metadata": {},
   "source": [
    "# Consumer trust in AI by country "
   ]
  },
  {
   "cell_type": "code",
   "execution_count": 39,
   "metadata": {},
   "outputs": [
    {
     "data": {
      "image/png": "[encoded data removed]",
      "text/plain": [
       "<Figure size 1000x600 with 1 Axes>"
      ]
     },
     "metadata": {},
     "output_type": "display_data"
    }
   ],
   "source": [
    "# Plot Consumer Trust in AI by Country\n",
    "plt.figure(figsize=(10, 6))\n",
    "sns.barplot(x=country_impact.index, y=country_impact[\"Consumer Trust in AI (%)\"])\n",
    "\n",
    "# Customize the plot\n",
    "plt.xlabel(\"Country\")\n",
    "plt.ylabel(\"Consumer Trust in AI (%)\")\n",
    "plt.title(\"Consumer Trust in AI by Country\")\n",
    "plt.xticks(rotation=45, ha='right')\n",
    "\n",
    "# Show the plot\n",
    "plt.show()\n",
    "\n",
    "\n",
    "# Germany has a very good trust on AI"
   ]
  },
  {
   "cell_type": "markdown",
   "metadata": {},
   "source": [
    "# Group the data by Country and Year, then calculate the average Human-AI Collaboration Rate\n"
   ]
  },
  {
   "cell_type": "code",
   "execution_count": 40,
   "metadata": {},
   "outputs": [
    {
     "data": {
      "text/html": [
       "<div>\n",
       "<style scoped>\n",
       "    .dataframe tbody tr th:only-of-type {\n",
       "        vertical-align: middle;\n",
       "    }\n",
       "\n",
       "    .dataframe tbody tr th {\n",
       "        vertical-align: top;\n",
       "    }\n",
       "\n",
       "    .dataframe thead th {\n",
       "        text-align: right;\n",
       "    }\n",
       "</style>\n",
       "<table border=\"1\" class=\"dataframe\">\n",
       "  <thead>\n",
       "    <tr style=\"text-align: right;\">\n",
       "      <th></th>\n",
       "      <th>Country</th>\n",
       "      <th>Year</th>\n",
       "      <th>Human-AI Collaboration Rate (%)</th>\n",
       "    </tr>\n",
       "  </thead>\n",
       "  <tbody>\n",
       "    <tr>\n",
       "      <th>0</th>\n",
       "      <td>Australia</td>\n",
       "      <td>2020</td>\n",
       "      <td>59.2225</td>\n",
       "    </tr>\n",
       "    <tr>\n",
       "      <th>1</th>\n",
       "      <td>Australia</td>\n",
       "      <td>2021</td>\n",
       "      <td>72.4000</td>\n",
       "    </tr>\n",
       "    <tr>\n",
       "      <th>2</th>\n",
       "      <td>Australia</td>\n",
       "      <td>2022</td>\n",
       "      <td>57.9250</td>\n",
       "    </tr>\n",
       "    <tr>\n",
       "      <th>3</th>\n",
       "      <td>Australia</td>\n",
       "      <td>2023</td>\n",
       "      <td>50.9825</td>\n",
       "    </tr>\n",
       "    <tr>\n",
       "      <th>4</th>\n",
       "      <td>Australia</td>\n",
       "      <td>2024</td>\n",
       "      <td>87.8000</td>\n",
       "    </tr>\n",
       "    <tr>\n",
       "      <th>5</th>\n",
       "      <td>Australia</td>\n",
       "      <td>2025</td>\n",
       "      <td>51.4450</td>\n",
       "    </tr>\n",
       "    <tr>\n",
       "      <th>6</th>\n",
       "      <td>Canada</td>\n",
       "      <td>2020</td>\n",
       "      <td>44.4300</td>\n",
       "    </tr>\n",
       "    <tr>\n",
       "      <th>7</th>\n",
       "      <td>Canada</td>\n",
       "      <td>2021</td>\n",
       "      <td>73.2600</td>\n",
       "    </tr>\n",
       "    <tr>\n",
       "      <th>8</th>\n",
       "      <td>Canada</td>\n",
       "      <td>2022</td>\n",
       "      <td>59.6175</td>\n",
       "    </tr>\n",
       "    <tr>\n",
       "      <th>9</th>\n",
       "      <td>Canada</td>\n",
       "      <td>2023</td>\n",
       "      <td>63.4200</td>\n",
       "    </tr>\n",
       "  </tbody>\n",
       "</table>\n",
       "</div>"
      ],
      "text/plain": [
       "     Country  Year  Human-AI Collaboration Rate (%)\n",
       "0  Australia  2020                          59.2225\n",
       "1  Australia  2021                          72.4000\n",
       "2  Australia  2022                          57.9250\n",
       "3  Australia  2023                          50.9825\n",
       "4  Australia  2024                          87.8000\n",
       "5  Australia  2025                          51.4450\n",
       "6     Canada  2020                          44.4300\n",
       "7     Canada  2021                          73.2600\n",
       "8     Canada  2022                          59.6175\n",
       "9     Canada  2023                          63.4200"
      ]
     },
     "execution_count": 40,
     "metadata": {},
     "output_type": "execute_result"
    }
   ],
   "source": [
    "grouped_data = df.groupby([\"Country\", \"Year\"])[\"Human-AI Collaboration Rate (%)\"].mean().reset_index()\n",
    "\n",
    "# Display the grouped data\n",
    "grouped_data.head(10)  # Show first 10 rows for preview\n"
   ]
  },
  {
   "cell_type": "markdown",
   "metadata": {},
   "source": [
    "# Create a bar plot for Human-AI Collaboration Rate by Country and Year\n"
   ]
  },
  {
   "cell_type": "code",
   "execution_count": 41,
   "metadata": {},
   "outputs": [
    {
     "data": {
      "image/png": "[encoded data removed]",
      "text/plain": [
       "<Figure size 1200x700 with 1 Axes>"
      ]
     },
     "metadata": {},
     "output_type": "display_data"
    }
   ],
   "source": [
    "plt.figure(figsize=(12, 7))\n",
    "sns.barplot(\n",
    "    data=grouped_data,\n",
    "    x=\"Country\",\n",
    "    y=\"Human-AI Collaboration Rate (%)\",\n",
    "    hue=\"Year\",\n",
    "    palette=\"viridis\"\n",
    ")\n",
    "\n",
    "# Customize the plot\n",
    "plt.title(\"Human-AI Collaboration Rate by Country and Year (Bar Chart)\")\n",
    "plt.xlabel(\"Country\")\n",
    "plt.ylabel(\"Human-AI Collaboration Rate (%)\")\n",
    "plt.legend(title=\"Year\", bbox_to_anchor=(1.05, 1), loc='upper left')\n",
    "plt.tight_layout()\n",
    "\n",
    "# Show the plot\n",
    "plt.show()\n"
   ]
  },
  {
   "cell_type": "markdown",
   "metadata": {},
   "source": [
    "# using a pie chart to describe that top AI tools used across the industries\n"
   ]
  },
  {
   "cell_type": "code",
   "execution_count": 42,
   "metadata": {},
   "outputs": [
    {
     "data": {
      "application/vnd.plotly.v1+json": {
       "config": {
        "plotlyServerURL": "https://plot.ly"
       },
       "data": [
        {
         "customdata": [
          [
           "South Korea"
          ],
          [
           "China"
          ],
          [
           "USA"
          ],
          [
           "France"
          ],
          [
           "France"
          ],
          [
           "USA"
          ],
          [
           "Australia"
          ],
          [
           "UK"
          ],
          [
           "Canada"
          ],
          [
           "China"
          ],
          [
           "USA"
          ],
          [
           "India"
          ],
          [
           "France"
          ],
          [
           "France"
          ],
          [
           "USA"
          ],
          [
           "Japan"
          ],
          [
           "Germany"
          ],
          [
           "UK"
          ],
          [
           "Japan"
          ],
          [
           "France"
          ],
          [
           "Canada"
          ],
          [
           "South Korea"
          ],
          [
           "Japan"
          ],
          [
           "France"
          ],
          [
           "France"
          ],
          [
           "France"
          ],
          [
           "USA"
          ],
          [
           "Germany"
          ],
          [
           "France"
          ],
          [
           "India"
          ],
          [
           "Canada"
          ],
          [
           "India"
          ],
          [
           "Japan"
          ],
          [
           "Japan"
          ],
          [
           "India"
          ],
          [
           "South Korea"
          ],
          [
           "UK"
          ],
          [
           "Japan"
          ],
          [
           "USA"
          ],
          [
           "Germany"
          ],
          [
           "Japan"
          ],
          [
           "China"
          ],
          [
           "Australia"
          ],
          [
           "Japan"
          ],
          [
           "South Korea"
          ],
          [
           "South Korea"
          ],
          [
           "France"
          ],
          [
           "USA"
          ],
          [
           "Canada"
          ],
          [
           "Australia"
          ],
          [
           "USA"
          ],
          [
           "South Korea"
          ],
          [
           "Australia"
          ],
          [
           "USA"
          ],
          [
           "France"
          ],
          [
           "China"
          ],
          [
           "Germany"
          ],
          [
           "India"
          ],
          [
           "Australia"
          ],
          [
           "UK"
          ],
          [
           "Canada"
          ],
          [
           "Japan"
          ],
          [
           "Germany"
          ],
          [
           "India"
          ],
          [
           "India"
          ],
          [
           "South Korea"
          ],
          [
           "UK"
          ],
          [
           "China"
          ],
          [
           "China"
          ],
          [
           "Australia"
          ],
          [
           "USA"
          ],
          [
           "South Korea"
          ],
          [
           "China"
          ],
          [
           "Australia"
          ],
          [
           "India"
          ],
          [
           "UK"
          ],
          [
           "South Korea"
          ],
          [
           "China"
          ],
          [
           "Japan"
          ],
          [
           "India"
          ],
          [
           "China"
          ],
          [
           "USA"
          ],
          [
           "UK"
          ],
          [
           "France"
          ],
          [
           "USA"
          ],
          [
           "UK"
          ],
          [
           "India"
          ],
          [
           "China"
          ],
          [
           "Germany"
          ],
          [
           "UK"
          ],
          [
           "USA"
          ],
          [
           "Japan"
          ],
          [
           "China"
          ],
          [
           "Japan"
          ],
          [
           "Japan"
          ],
          [
           "France"
          ],
          [
           "India"
          ],
          [
           "USA"
          ],
          [
           "Germany"
          ],
          [
           "South Korea"
          ],
          [
           "Japan"
          ],
          [
           "South Korea"
          ],
          [
           "UK"
          ],
          [
           "South Korea"
          ],
          [
           "Canada"
          ],
          [
           "USA"
          ],
          [
           "South Korea"
          ],
          [
           "China"
          ],
          [
           "USA"
          ],
          [
           "South Korea"
          ],
          [
           "Australia"
          ],
          [
           "USA"
          ],
          [
           "Canada"
          ],
          [
           "France"
          ],
          [
           "South Korea"
          ],
          [
           "Japan"
          ],
          [
           "Canada"
          ],
          [
           "India"
          ],
          [
           "Germany"
          ],
          [
           "South Korea"
          ],
          [
           "Canada"
          ],
          [
           "China"
          ],
          [
           "China"
          ],
          [
           "Germany"
          ],
          [
           "Australia"
          ],
          [
           "UK"
          ],
          [
           "USA"
          ],
          [
           "UK"
          ],
          [
           "China"
          ],
          [
           "South Korea"
          ],
          [
           "Japan"
          ],
          [
           "Australia"
          ],
          [
           "UK"
          ],
          [
           "China"
          ],
          [
           "France"
          ],
          [
           "Germany"
          ],
          [
           "Australia"
          ],
          [
           "China"
          ],
          [
           "India"
          ],
          [
           "South Korea"
          ],
          [
           "Japan"
          ],
          [
           "Germany"
          ],
          [
           "UK"
          ],
          [
           "India"
          ],
          [
           "UK"
          ],
          [
           "Japan"
          ],
          [
           "USA"
          ],
          [
           "India"
          ],
          [
           "Australia"
          ],
          [
           "China"
          ],
          [
           "France"
          ],
          [
           "Japan"
          ],
          [
           "India"
          ],
          [
           "Australia"
          ],
          [
           "India"
          ],
          [
           "China"
          ],
          [
           "Canada"
          ],
          [
           "UK"
          ],
          [
           "India"
          ],
          [
           "Germany"
          ],
          [
           "France"
          ],
          [
           "UK"
          ],
          [
           "France"
          ],
          [
           "Canada"
          ],
          [
           "India"
          ],
          [
           "Japan"
          ],
          [
           "China"
          ],
          [
           "Germany"
          ],
          [
           "Japan"
          ],
          [
           "Canada"
          ],
          [
           "France"
          ],
          [
           "Australia"
          ],
          [
           "Japan"
          ],
          [
           "India"
          ],
          [
           "Canada"
          ],
          [
           "India"
          ],
          [
           "France"
          ],
          [
           "India"
          ],
          [
           "UK"
          ],
          [
           "USA"
          ],
          [
           "UK"
          ],
          [
           "Germany"
          ],
          [
           "Canada"
          ],
          [
           "India"
          ],
          [
           "Germany"
          ],
          [
           "France"
          ],
          [
           "India"
          ],
          [
           "China"
          ],
          [
           "UK"
          ],
          [
           "USA"
          ],
          [
           "France"
          ],
          [
           "Canada"
          ],
          [
           "Canada"
          ],
          [
           "South Korea"
          ],
          [
           "France"
          ],
          [
           "Germany"
          ],
          [
           "Germany"
          ],
          [
           "France"
          ],
          [
           "Australia"
          ],
          [
           "South Korea"
          ]
         ],
         "domain": {
          "x": [
           0,
           1
          ],
          "y": [
           0,
           1
          ]
         },
         "hole": 0.5,
         "hovertemplate": "Top AI Tools Used=%{label}<br>Country=%{customdata[0]}<extra></extra>",
         "labels": [
          "Bard",
          "DALL-E",
          "Stable Diffusion",
          "Claude",
          "Midjourney",
          "ChatGPT",
          "Claude",
          "ChatGPT",
          "Claude",
          "Stable Diffusion",
          "Synthesia",
          "ChatGPT",
          "Midjourney",
          "Bard",
          "Stable Diffusion",
          "Stable Diffusion",
          "Stable Diffusion",
          "Synthesia",
          "Midjourney",
          "Stable Diffusion",
          "Midjourney",
          "Midjourney",
          "DALL-E",
          "Synthesia",
          "Synthesia",
          "Synthesia",
          "Midjourney",
          "Claude",
          "Synthesia",
          "DALL-E",
          "Bard",
          "DALL-E",
          "Stable Diffusion",
          "Claude",
          "Synthesia",
          "Stable Diffusion",
          "DALL-E",
          "Claude",
          "Stable Diffusion",
          "Claude",
          "Claude",
          "Midjourney",
          "Claude",
          "Midjourney",
          "Midjourney",
          "Claude",
          "Stable Diffusion",
          "Claude",
          "DALL-E",
          "Claude",
          "DALL-E",
          "Bard",
          "ChatGPT",
          "ChatGPT",
          "ChatGPT",
          "Midjourney",
          "ChatGPT",
          "Claude",
          "DALL-E",
          "Midjourney",
          "Midjourney",
          "ChatGPT",
          "DALL-E",
          "Stable Diffusion",
          "Midjourney",
          "ChatGPT",
          "Synthesia",
          "Midjourney",
          "Midjourney",
          "Claude",
          "Bard",
          "Bard",
          "ChatGPT",
          "ChatGPT",
          "ChatGPT",
          "Midjourney",
          "Stable Diffusion",
          "Stable Diffusion",
          "ChatGPT",
          "DALL-E",
          "Midjourney",
          "Claude",
          "Synthesia",
          "Stable Diffusion",
          "Bard",
          "Midjourney",
          "Synthesia",
          "DALL-E",
          "Midjourney",
          "Stable Diffusion",
          "Synthesia",
          "Claude",
          "ChatGPT",
          "Midjourney",
          "Midjourney",
          "Stable Diffusion",
          "Stable Diffusion",
          "Claude",
          "Midjourney",
          "Midjourney",
          "Midjourney",
          "Midjourney",
          "Claude",
          "ChatGPT",
          "DALL-E",
          "Bard",
          "ChatGPT",
          "Midjourney",
          "Bard",
          "DALL-E",
          "Stable Diffusion",
          "Claude",
          "Midjourney",
          "DALL-E",
          "Bard",
          "Stable Diffusion",
          "Synthesia",
          "Bard",
          "Bard",
          "Claude",
          "DALL-E",
          "Midjourney",
          "DALL-E",
          "Claude",
          "Claude",
          "ChatGPT",
          "Midjourney",
          "Synthesia",
          "Bard",
          "Bard",
          "Stable Diffusion",
          "DALL-E",
          "DALL-E",
          "Bard",
          "DALL-E",
          "Bard",
          "DALL-E",
          "ChatGPT",
          "Bard",
          "Claude",
          "Claude",
          "ChatGPT",
          "Stable Diffusion",
          "Stable Diffusion",
          "Midjourney",
          "ChatGPT",
          "Synthesia",
          "DALL-E",
          "ChatGPT",
          "Synthesia",
          "ChatGPT",
          "Midjourney",
          "Bard",
          "Synthesia",
          "Stable Diffusion",
          "Claude",
          "Midjourney",
          "DALL-E",
          "Bard",
          "Synthesia",
          "ChatGPT",
          "Midjourney",
          "Stable Diffusion",
          "Claude",
          "Bard",
          "Claude",
          "Synthesia",
          "ChatGPT",
          "Claude",
          "ChatGPT",
          "ChatGPT",
          "ChatGPT",
          "DALL-E",
          "Synthesia",
          "Synthesia",
          "Synthesia",
          "Claude",
          "Midjourney",
          "Claude",
          "Stable Diffusion",
          "ChatGPT",
          "Bard",
          "Synthesia",
          "Stable Diffusion",
          "Bard",
          "ChatGPT",
          "ChatGPT",
          "Midjourney",
          "Midjourney",
          "Bard",
          "Bard",
          "Midjourney",
          "Synthesia",
          "ChatGPT",
          "DALL-E",
          "DALL-E",
          "DALL-E",
          "Synthesia",
          "Claude",
          "Stable Diffusion"
         ],
         "legendgroup": "",
         "name": "",
         "showlegend": true,
         "textinfo": "percent+label",
         "textposition": "inside",
         "type": "pie"
        }
       ],
       "layout": {
        "legend": {
         "tracegroupgap": 0
        },
        "piecolorway": [
         "rgb(102, 197, 204)",
         "rgb(246, 207, 113)",
         "rgb(248, 156, 116)",
         "rgb(220, 176, 242)",
         "rgb(135, 197, 95)",
         "rgb(158, 185, 243)",
         "rgb(254, 136, 177)",
         "rgb(201, 219, 116)",
         "rgb(139, 224, 164)",
         "rgb(180, 151, 231)",
         "rgb(179, 179, 179)"
        ],
        "template": {
         "data": {
          "bar": [
           {
            "error_x": {
             "color": "#2a3f5f"
            },
            "error_y": {
             "color": "#2a3f5f"
            },
            "marker": {
             "line": {
              "color": "#E5ECF6",
              "width": 0.5
             },
             "pattern": {
              "fillmode": "overlay",
              "size": 10,
              "solidity": 0.2
             }
            },
            "type": "bar"
           }
          ],
          "barpolar": [
           {
            "marker": {
             "line": {
              "color": "#E5ECF6",
              "width": 0.5
             },
             "pattern": {
              "fillmode": "overlay",
              "size": 10,
              "solidity": 0.2
             }
            },
            "type": "barpolar"
           }
          ],
          "carpet": [
           {
            "aaxis": {
             "endlinecolor": "#2a3f5f",
             "gridcolor": "white",
             "linecolor": "white",
             "minorgridcolor": "white",
             "startlinecolor": "#2a3f5f"
            },
            "baxis": {
             "endlinecolor": "#2a3f5f",
             "gridcolor": "white",
             "linecolor": "white",
             "minorgridcolor": "white",
             "startlinecolor": "#2a3f5f"
            },
            "type": "carpet"
           }
          ],
          "choropleth": [
           {
            "colorbar": {
             "outlinewidth": 0,
             "ticks": ""
            },
            "type": "choropleth"
           }
          ],
          "contour": [
           {
            "colorbar": {
             "outlinewidth": 0,
             "ticks": ""
            },
            "colorscale": [
             [
              0,
              "#0d0887"
             ],
             [
              0.1111111111111111,
              "#46039f"
             ],
             [
              0.2222222222222222,
              "#7201a8"
             ],
             [
              0.3333333333333333,
              "#9c179e"
             ],
             [
              0.4444444444444444,
              "#bd3786"
             ],
             [
              0.5555555555555556,
              "#d8576b"
             ],
             [
              0.6666666666666666,
              "#ed7953"
             ],
             [
              0.7777777777777778,
              "#fb9f3a"
             ],
             [
              0.8888888888888888,
              "#fdca26"
             ],
             [
              1,
              "#f0f921"
             ]
            ],
            "type": "contour"
           }
          ],
          "contourcarpet": [
           {
            "colorbar": {
             "outlinewidth": 0,
             "ticks": ""
            },
            "type": "contourcarpet"
           }
          ],
          "heatmap": [
           {
            "colorbar": {
             "outlinewidth": 0,
             "ticks": ""
            },
            "colorscale": [
             [
              0,
              "#0d0887"
             ],
             [
              0.1111111111111111,
              "#46039f"
             ],
             [
              0.2222222222222222,
              "#7201a8"
             ],
             [
              0.3333333333333333,
              "#9c179e"
             ],
             [
              0.4444444444444444,
              "#bd3786"
             ],
             [
              0.5555555555555556,
              "#d8576b"
             ],
             [
              0.6666666666666666,
              "#ed7953"
             ],
             [
              0.7777777777777778,
              "#fb9f3a"
             ],
             [
              0.8888888888888888,
              "#fdca26"
             ],
             [
              1,
              "#f0f921"
             ]
            ],
            "type": "heatmap"
           }
          ],
          "heatmapgl": [
           {
            "colorbar": {
             "outlinewidth": 0,
             "ticks": ""
            },
            "colorscale": [
             [
              0,
              "#0d0887"
             ],
             [
              0.1111111111111111,
              "#46039f"
             ],
             [
              0.2222222222222222,
              "#7201a8"
             ],
             [
              0.3333333333333333,
              "#9c179e"
             ],
             [
              0.4444444444444444,
              "#bd3786"
             ],
             [
              0.5555555555555556,
              "#d8576b"
             ],
             [
              0.6666666666666666,
              "#ed7953"
             ],
             [
              0.7777777777777778,
              "#fb9f3a"
             ],
             [
              0.8888888888888888,
              "#fdca26"
             ],
             [
              1,
              "#f0f921"
             ]
            ],
            "type": "heatmapgl"
           }
          ],
          "histogram": [
           {
            "marker": {
             "pattern": {
              "fillmode": "overlay",
              "size": 10,
              "solidity": 0.2
             }
            },
            "type": "histogram"
           }
          ],
          "histogram2d": [
           {
            "colorbar": {
             "outlinewidth": 0,
             "ticks": ""
            },
            "colorscale": [
             [
              0,
              "#0d0887"
             ],
             [
              0.1111111111111111,
              "#46039f"
             ],
             [
              0.2222222222222222,
              "#7201a8"
             ],
             [
              0.3333333333333333,
              "#9c179e"
             ],
             [
              0.4444444444444444,
              "#bd3786"
             ],
             [
              0.5555555555555556,
              "#d8576b"
             ],
             [
              0.6666666666666666,
              "#ed7953"
             ],
             [
              0.7777777777777778,
              "#fb9f3a"
             ],
             [
              0.8888888888888888,
              "#fdca26"
             ],
             [
              1,
              "#f0f921"
             ]
            ],
            "type": "histogram2d"
           }
          ],
          "histogram2dcontour": [
           {
            "colorbar": {
             "outlinewidth": 0,
             "ticks": ""
            },
            "colorscale": [
             [
              0,
              "#0d0887"
             ],
             [
              0.1111111111111111,
              "#46039f"
             ],
             [
              0.2222222222222222,
              "#7201a8"
             ],
             [
              0.3333333333333333,
              "#9c179e"
             ],
             [
              0.4444444444444444,
              "#bd3786"
             ],
             [
              0.5555555555555556,
              "#d8576b"
             ],
             [
              0.6666666666666666,
              "#ed7953"
             ],
             [
              0.7777777777777778,
              "#fb9f3a"
             ],
             [
              0.8888888888888888,
              "#fdca26"
             ],
             [
              1,
              "#f0f921"
             ]
            ],
            "type": "histogram2dcontour"
           }
          ],
          "mesh3d": [
           {
            "colorbar": {
             "outlinewidth": 0,
             "ticks": ""
            },
            "type": "mesh3d"
           }
          ],
          "parcoords": [
           {
            "line": {
             "colorbar": {
              "outlinewidth": 0,
              "ticks": ""
             }
            },
            "type": "parcoords"
           }
          ],
          "pie": [
           {
            "automargin": true,
            "type": "pie"
           }
          ],
          "scatter": [
           {
            "fillpattern": {
             "fillmode": "overlay",
             "size": 10,
             "solidity": 0.2
            },
            "type": "scatter"
           }
          ],
          "scatter3d": [
           {
            "line": {
             "colorbar": {
              "outlinewidth": 0,
              "ticks": ""
             }
            },
            "marker": {
             "colorbar": {
              "outlinewidth": 0,
              "ticks": ""
             }
            },
            "type": "scatter3d"
           }
          ],
          "scattercarpet": [
           {
            "marker": {
             "colorbar": {
              "outlinewidth": 0,
              "ticks": ""
             }
            },
            "type": "scattercarpet"
           }
          ],
          "scattergeo": [
           {
            "marker": {
             "colorbar": {
              "outlinewidth": 0,
              "ticks": ""
             }
            },
            "type": "scattergeo"
           }
          ],
          "scattergl": [
           {
            "marker": {
             "colorbar": {
              "outlinewidth": 0,
              "ticks": ""
             }
            },
            "type": "scattergl"
           }
          ],
          "scattermapbox": [
           {
            "marker": {
             "colorbar": {
              "outlinewidth": 0,
              "ticks": ""
             }
            },
            "type": "scattermapbox"
           }
          ],
          "scatterpolar": [
           {
            "marker": {
             "colorbar": {
              "outlinewidth": 0,
              "ticks": ""
             }
            },
            "type": "scatterpolar"
           }
          ],
          "scatterpolargl": [
           {
            "marker": {
             "colorbar": {
              "outlinewidth": 0,
              "ticks": ""
             }
            },
            "type": "scatterpolargl"
           }
          ],
          "scatterternary": [
           {
            "marker": {
             "colorbar": {
              "outlinewidth": 0,
              "ticks": ""
             }
            },
            "type": "scatterternary"
           }
          ],
          "surface": [
           {
            "colorbar": {
             "outlinewidth": 0,
             "ticks": ""
            },
            "colorscale": [
             [
              0,
              "#0d0887"
             ],
             [
              0.1111111111111111,
              "#46039f"
             ],
             [
              0.2222222222222222,
              "#7201a8"
             ],
             [
              0.3333333333333333,
              "#9c179e"
             ],
             [
              0.4444444444444444,
              "#bd3786"
             ],
             [
              0.5555555555555556,
              "#d8576b"
             ],
             [
              0.6666666666666666,
              "#ed7953"
             ],
             [
              0.7777777777777778,
              "#fb9f3a"
             ],
             [
              0.8888888888888888,
              "#fdca26"
             ],
             [
              1,
              "#f0f921"
             ]
            ],
            "type": "surface"
           }
          ],
          "table": [
           {
            "cells": {
             "fill": {
              "color": "#EBF0F8"
             },
             "line": {
              "color": "white"
             }
            },
            "header": {
             "fill": {
              "color": "#C8D4E3"
             },
             "line": {
              "color": "white"
             }
            },
            "type": "table"
           }
          ]
         },
         "layout": {
          "annotationdefaults": {
           "arrowcolor": "#2a3f5f",
           "arrowhead": 0,
           "arrowwidth": 1
          },
          "autotypenumbers": "strict",
          "coloraxis": {
           "colorbar": {
            "outlinewidth": 0,
            "ticks": ""
           }
          },
          "colorscale": {
           "diverging": [
            [
             0,
             "#8e0152"
            ],
            [
             0.1,
             "#c51b7d"
            ],
            [
             0.2,
             "#de77ae"
            ],
            [
             0.3,
             "#f1b6da"
            ],
            [
             0.4,
             "#fde0ef"
            ],
            [
             0.5,
             "#f7f7f7"
            ],
            [
             0.6,
             "#e6f5d0"
            ],
            [
             0.7,
             "#b8e186"
            ],
            [
             0.8,
             "#7fbc41"
            ],
            [
             0.9,
             "#4d9221"
            ],
            [
             1,
             "#276419"
            ]
           ],
           "sequential": [
            [
             0,
             "#0d0887"
            ],
            [
             0.1111111111111111,
             "#46039f"
            ],
            [
             0.2222222222222222,
             "#7201a8"
            ],
            [
             0.3333333333333333,
             "#9c179e"
            ],
            [
             0.4444444444444444,
             "#bd3786"
            ],
            [
             0.5555555555555556,
             "#d8576b"
            ],
            [
             0.6666666666666666,
             "#ed7953"
            ],
            [
             0.7777777777777778,
             "#fb9f3a"
            ],
            [
             0.8888888888888888,
             "#fdca26"
            ],
            [
             1,
             "#f0f921"
            ]
           ],
           "sequentialminus": [
            [
             0,
             "#0d0887"
            ],
            [
             0.1111111111111111,
             "#46039f"
            ],
            [
             0.2222222222222222,
             "#7201a8"
            ],
            [
             0.3333333333333333,
             "#9c179e"
            ],
            [
             0.4444444444444444,
             "#bd3786"
            ],
            [
             0.5555555555555556,
             "#d8576b"
            ],
            [
             0.6666666666666666,
             "#ed7953"
            ],
            [
             0.7777777777777778,
             "#fb9f3a"
            ],
            [
             0.8888888888888888,
             "#fdca26"
            ],
            [
             1,
             "#f0f921"
            ]
           ]
          },
          "colorway": [
           "#636efa",
           "#EF553B",
           "#00cc96",
           "#ab63fa",
           "#FFA15A",
           "#19d3f3",
           "#FF6692",
           "#B6E880",
           "#FF97FF",
           "#FECB52"
          ],
          "font": {
           "color": "#2a3f5f"
          },
          "geo": {
           "bgcolor": "white",
           "lakecolor": "white",
           "landcolor": "#E5ECF6",
           "showlakes": true,
           "showland": true,
           "subunitcolor": "white"
          },
          "hoverlabel": {
           "align": "left"
          },
          "hovermode": "closest",
          "mapbox": {
           "style": "light"
          },
          "paper_bgcolor": "white",
          "plot_bgcolor": "#E5ECF6",
          "polar": {
           "angularaxis": {
            "gridcolor": "white",
            "linecolor": "white",
            "ticks": ""
           },
           "bgcolor": "#E5ECF6",
           "radialaxis": {
            "gridcolor": "white",
            "linecolor": "white",
            "ticks": ""
           }
          },
          "scene": {
           "xaxis": {
            "backgroundcolor": "#E5ECF6",
            "gridcolor": "white",
            "gridwidth": 2,
            "linecolor": "white",
            "showbackground": true,
            "ticks": "",
            "zerolinecolor": "white"
           },
           "yaxis": {
            "backgroundcolor": "#E5ECF6",
            "gridcolor": "white",
            "gridwidth": 2,
            "linecolor": "white",
            "showbackground": true,
            "ticks": "",
            "zerolinecolor": "white"
           },
           "zaxis": {
            "backgroundcolor": "#E5ECF6",
            "gridcolor": "white",
            "gridwidth": 2,
            "linecolor": "white",
            "showbackground": true,
            "ticks": "",
            "zerolinecolor": "white"
           }
          },
          "shapedefaults": {
           "line": {
            "color": "#2a3f5f"
           }
          },
          "ternary": {
           "aaxis": {
            "gridcolor": "white",
            "linecolor": "white",
            "ticks": ""
           },
           "baxis": {
            "gridcolor": "white",
            "linecolor": "white",
            "ticks": ""
           },
           "bgcolor": "#E5ECF6",
           "caxis": {
            "gridcolor": "white",
            "linecolor": "white",
            "ticks": ""
           }
          },
          "title": {
           "x": 0.05
          },
          "xaxis": {
           "automargin": true,
           "gridcolor": "white",
           "linecolor": "white",
           "ticks": "",
           "title": {
            "standoff": 15
           },
           "zerolinecolor": "white",
           "zerolinewidth": 2
          },
          "yaxis": {
           "automargin": true,
           "gridcolor": "white",
           "linecolor": "white",
           "ticks": "",
           "title": {
            "standoff": 15
           },
           "zerolinecolor": "white",
           "zerolinewidth": 2
          }
         }
        },
        "title": {
         "text": "Top AI Tools Used Across Industries"
        }
       }
      }
     },
     "metadata": {},
     "output_type": "display_data"
    }
   ],
   "source": [
    "import plotly.express as px\n",
    "\n",
    "pie_chart = px.pie(\n",
    "    df,\n",
    "    names='Top AI Tools Used',\n",
    "    title='Top AI Tools Used Across Industries',\n",
    "    hole=0.5,\n",
    "    color_discrete_sequence=px.colors.qualitative.Pastel,\n",
    "    hover_data=['Country']  \n",
    ")\n",
    "\n",
    "pie_chart.update_traces(textposition='inside', textinfo='percent+label')\n",
    "pie_chart.show()\n"
   ]
  },
  {
   "cell_type": "markdown",
   "metadata": {},
   "source": [
    "# Market shares of AI companies according to the year"
   ]
  },
  {
   "cell_type": "code",
   "execution_count": 43,
   "metadata": {},
   "outputs": [
    {
     "data": {
      "application/vnd.plotly.v1+json": {
       "config": {
        "plotlyServerURL": "https://plot.ly"
       },
       "data": [
        {
         "hovertemplate": "<b>%{hovertext}</b><br><br>Market Share of AI Companies (%)=%{x}<br>Year=%{y}<br>AI Adoption Rate (%)=%{marker.color}<extra></extra>",
         "hovertext": [
          "South Korea",
          "China",
          "USA",
          "France",
          "France",
          "USA",
          "Australia",
          "UK",
          "Canada",
          "China",
          "USA",
          "India",
          "France",
          "France",
          "USA",
          "Japan",
          "Germany",
          "UK",
          "Japan",
          "France",
          "Canada",
          "South Korea",
          "Japan",
          "France",
          "France",
          "France",
          "USA",
          "Germany",
          "France",
          "India",
          "Canada",
          "India",
          "Japan",
          "Japan",
          "India",
          "South Korea",
          "UK",
          "Japan",
          "USA",
          "Germany",
          "Japan",
          "China",
          "Australia",
          "Japan",
          "South Korea",
          "South Korea",
          "France",
          "USA",
          "Canada",
          "Australia",
          "USA",
          "South Korea",
          "Australia",
          "USA",
          "France",
          "China",
          "Germany",
          "India",
          "Australia",
          "UK",
          "Canada",
          "Japan",
          "Germany",
          "India",
          "India",
          "South Korea",
          "UK",
          "China",
          "China",
          "Australia",
          "USA",
          "South Korea",
          "China",
          "Australia",
          "India",
          "UK",
          "South Korea",
          "China",
          "Japan",
          "India",
          "China",
          "USA",
          "UK",
          "France",
          "USA",
          "UK",
          "India",
          "China",
          "Germany",
          "UK",
          "USA",
          "Japan",
          "China",
          "Japan",
          "Japan",
          "France",
          "India",
          "USA",
          "Germany",
          "South Korea",
          "Japan",
          "South Korea",
          "UK",
          "South Korea",
          "Canada",
          "USA",
          "South Korea",
          "China",
          "USA",
          "South Korea",
          "Australia",
          "USA",
          "Canada",
          "France",
          "South Korea",
          "Japan",
          "Canada",
          "India",
          "Germany",
          "South Korea",
          "Canada",
          "China",
          "China",
          "Germany",
          "Australia",
          "UK",
          "USA",
          "UK",
          "China",
          "South Korea",
          "Japan",
          "Australia",
          "UK",
          "China",
          "France",
          "Germany",
          "Australia",
          "China",
          "India",
          "South Korea",
          "Japan",
          "Germany",
          "UK",
          "India",
          "UK",
          "Japan",
          "USA",
          "India",
          "Australia",
          "China",
          "France",
          "Japan",
          "India",
          "Australia",
          "India",
          "China",
          "Canada",
          "UK",
          "India",
          "Germany",
          "France",
          "UK",
          "France",
          "Canada",
          "India",
          "Japan",
          "China",
          "Germany",
          "Japan",
          "Canada",
          "France",
          "Australia",
          "Japan",
          "India",
          "Canada",
          "India",
          "France",
          "India",
          "UK",
          "USA",
          "UK",
          "Germany",
          "Canada",
          "India",
          "Germany",
          "France",
          "India",
          "China",
          "UK",
          "USA",
          "France",
          "Canada",
          "Canada",
          "South Korea",
          "France",
          "Germany",
          "Germany",
          "France",
          "Australia",
          "South Korea"
         ],
         "legendgroup": "",
         "marker": {
          "color": [
           44.29,
           34.75,
           81.06,
           85.24,
           78.95,
           66.95,
           68.23,
           91.27,
           17.02,
           25.5,
           11.94,
           39.04,
           71,
           25.62,
           49.71,
           67.94,
           43.85,
           64.87,
           62.98,
           62.94,
           94.76,
           44.1,
           12.86,
           49.97,
           88.41,
           79.59,
           26.12,
           87.95,
           42.53,
           32.74,
           67.15,
           28.48,
           44.97,
           71.57,
           16.79,
           74.81,
           77.52,
           27.61,
           44.61,
           81.18,
           41.28,
           48.54,
           62.64,
           57.35,
           26.63,
           25.98,
           20.47,
           83.4,
           61.49,
           89.96,
           33.23,
           30.94,
           91.41,
           93,
           93.16,
           26.27,
           88.75,
           50.27,
           76.22,
           28.27,
           41.32,
           38.42,
           20.25,
           68.39,
           68.21,
           44.99,
           50.34,
           45.27,
           66.93,
           78.21,
           83.2,
           12.97,
           70.7,
           78.6,
           43.55,
           82.82,
           75.42,
           13.9,
           82.72,
           63.04,
           72.88,
           26.57,
           80.83,
           73.22,
           45.3,
           89.74,
           55.3,
           87.73,
           71.9,
           88.38,
           67.18,
           28.6,
           46.72,
           35.91,
           76.22,
           27.95,
           33.2,
           38.21,
           43.4,
           67.97,
           92.96,
           18.91,
           70.59,
           83.74,
           52.43,
           32,
           43.12,
           27.02,
           29.49,
           57.15,
           35.83,
           27.5,
           49.72,
           79.64,
           53.76,
           91.67,
           27.53,
           67.08,
           77.96,
           74.66,
           82.25,
           85.09,
           82.41,
           17.05,
           14.31,
           73.89,
           56.81,
           83.85,
           43.22,
           52.86,
           46.79,
           57.44,
           11.99,
           70.04,
           64.43,
           20.23,
           33.91,
           93.49,
           45.37,
           86.58,
           19.03,
           34.28,
           67.49,
           76.35,
           46.44,
           78.57,
           73.11,
           64.03,
           21.02,
           14.76,
           15.77,
           20.14,
           15.2,
           69.67,
           70.48,
           80.75,
           31.96,
           82.54,
           93.72,
           21.63,
           23.27,
           63.03,
           54.67,
           60.69,
           44.17,
           34.27,
           35.22,
           20.95,
           72.59,
           68.24,
           55.19,
           18.43,
           88.16,
           29.45,
           11.14,
           46.62,
           43.32,
           59.85,
           88.23,
           87.79,
           21.57,
           45.09,
           50.97,
           52.18,
           40.8,
           77.33,
           80.04,
           39.48,
           30.18,
           36.52,
           48.39,
           39.94,
           78.43,
           81.86,
           29.61,
           89.44,
           70.11,
           65.77,
           45.35,
           10.53
          ],
          "coloraxis": "coloraxis",
          "symbol": "circle"
         },
         "mode": "markers",
         "name": "",
         "orientation": "v",
         "showlegend": false,
         "type": "scatter",
         "x": [
          18.73,
          35.02,
          22.76,
          1.93,
          21.41,
          8.09,
          15.26,
          28.51,
          22.7,
          39.97,
          29.3,
          22.79,
          38.36,
          29.92,
          5.76,
          7.6,
          25.07,
          20.54,
          30.55,
          41.99,
          34.65,
          40.98,
          5.25,
          27.6,
          35.86,
          14.03,
          3.46,
          31.99,
          46.58,
          19.93,
          22.15,
          14.27,
          46.37,
          28.45,
          16.4,
          11.7,
          41.11,
          42.23,
          43.24,
          39.04,
          33.26,
          24.81,
          47.08,
          7.53,
          48.53,
          42.56,
          24.29,
          47.4,
          29.32,
          17.66,
          4.66,
          38.38,
          29.35,
          21.16,
          9.04,
          38.02,
          30.79,
          26.84,
          6.82,
          4.4,
          37.79,
          25.28,
          5.5,
          34.83,
          41.3,
          48.91,
          28.87,
          39.35,
          5.41,
          49.04,
          35.3,
          35.4,
          3.86,
          13.48,
          35.3,
          17.29,
          11.26,
          38.59,
          5.46,
          38.6,
          12.1,
          16.73,
          21.66,
          48.56,
          10.51,
          32.23,
          45.09,
          32.72,
          37.87,
          48.93,
          8.66,
          29.9,
          33.06,
          33.33,
          49.08,
          20.68,
          16.85,
          11.84,
          48.39,
          20.88,
          9.47,
          12.68,
          4.47,
          46.78,
          47.98,
          22.31,
          10.43,
          14.69,
          43.36,
          37.77,
          20.93,
          12.56,
          20.52,
          20.17,
          1.18,
          20.54,
          9.06,
          46.63,
          39.55,
          29.08,
          27.13,
          25.64,
          24.11,
          45.6,
          2.64,
          27.19,
          20.22,
          21.52,
          33.4,
          4.09,
          32.61,
          43.77,
          5.19,
          8.39,
          6.24,
          1.63,
          37.53,
          45.17,
          47.48,
          42.29,
          19.08,
          35.63,
          47.38,
          45.49,
          34.39,
          39.19,
          31.14,
          34.26,
          13.25,
          22.64,
          48.02,
          43.92,
          14,
          9.18,
          40.32,
          32.54,
          21.86,
          49.28,
          9.67,
          22.23,
          13.5,
          6.21,
          32.81,
          3.26,
          2.49,
          39.95,
          22.55,
          44.86,
          27.59,
          15.34,
          46.08,
          6.21,
          20.74,
          17.82,
          47.32,
          20.08,
          13.22,
          30.75,
          32.23,
          12.22,
          18.87,
          20.61,
          31.02,
          14.06,
          12.95,
          24.33,
          44.8,
          36.32,
          12.56,
          29.93,
          44.4,
          37.29,
          45.04,
          11.61,
          28.9,
          44.35,
          31.73,
          14.62,
          43.11,
          33.37
         ],
         "xaxis": "x",
         "y": [
          2022,
          2025,
          2022,
          2021,
          2021,
          2021,
          2023,
          2023,
          2025,
          2025,
          2023,
          2023,
          2020,
          2021,
          2025,
          2024,
          2022,
          2025,
          2022,
          2025,
          2025,
          2025,
          2023,
          2022,
          2023,
          2020,
          2020,
          2022,
          2021,
          2025,
          2022,
          2022,
          2025,
          2023,
          2025,
          2023,
          2024,
          2023,
          2022,
          2021,
          2022,
          2024,
          2025,
          2022,
          2024,
          2024,
          2020,
          2021,
          2023,
          2022,
          2025,
          2020,
          2023,
          2022,
          2020,
          2022,
          2023,
          2024,
          2021,
          2025,
          2020,
          2021,
          2021,
          2022,
          2025,
          2021,
          2020,
          2020,
          2023,
          2024,
          2023,
          2020,
          2020,
          2022,
          2020,
          2023,
          2023,
          2021,
          2024,
          2021,
          2020,
          2025,
          2022,
          2024,
          2025,
          2022,
          2024,
          2025,
          2020,
          2021,
          2021,
          2022,
          2022,
          2025,
          2021,
          2024,
          2025,
          2025,
          2023,
          2021,
          2025,
          2020,
          2020,
          2023,
          2022,
          2024,
          2020,
          2023,
          2025,
          2024,
          2025,
          2020,
          2021,
          2025,
          2021,
          2025,
          2022,
          2025,
          2023,
          2022,
          2025,
          2021,
          2020,
          2024,
          2020,
          2022,
          2021,
          2025,
          2020,
          2025,
          2022,
          2021,
          2022,
          2025,
          2020,
          2020,
          2020,
          2020,
          2021,
          2025,
          2020,
          2020,
          2020,
          2025,
          2021,
          2023,
          2021,
          2020,
          2020,
          2021,
          2024,
          2022,
          2024,
          2020,
          2020,
          2023,
          2023,
          2024,
          2020,
          2020,
          2024,
          2020,
          2021,
          2020,
          2024,
          2020,
          2020,
          2023,
          2023,
          2020,
          2020,
          2023,
          2024,
          2025,
          2022,
          2025,
          2022,
          2024,
          2020,
          2021,
          2021,
          2021,
          2020,
          2024,
          2021,
          2024,
          2020,
          2022,
          2022,
          2020,
          2023,
          2020,
          2025,
          2025,
          2025,
          2021,
          2020,
          2023,
          2023,
          2020
         ],
         "yaxis": "y"
        },
        {
         "hovertemplate": "<b>OLS trendline</b><br>Year = 0.00623355 * Market Share of AI Companies (%) + 2022.15<br>R<sup>2</sup>=0.002293<br><br>Market Share of AI Companies (%)=%{x}<br>Year=%{y} <b>(trend)</b><extra></extra>",
         "legendgroup": "",
         "marker": {
          "symbol": "circle"
         },
         "mode": "lines",
         "name": "",
         "showlegend": false,
         "type": "scatter",
         "x": [
          1.18,
          1.63,
          1.93,
          2.49,
          2.64,
          3.26,
          3.46,
          3.86,
          4.09,
          4.4,
          4.47,
          4.66,
          5.19,
          5.25,
          5.41,
          5.46,
          5.5,
          5.76,
          6.21,
          6.21,
          6.24,
          6.82,
          7.53,
          7.6,
          8.09,
          8.39,
          8.66,
          9.04,
          9.06,
          9.18,
          9.47,
          9.67,
          10.43,
          10.51,
          11.26,
          11.61,
          11.7,
          11.84,
          12.1,
          12.22,
          12.56,
          12.56,
          12.68,
          12.95,
          13.22,
          13.25,
          13.48,
          13.5,
          14,
          14.03,
          14.06,
          14.27,
          14.62,
          14.69,
          15.26,
          15.34,
          16.4,
          16.73,
          16.85,
          17.29,
          17.66,
          17.82,
          18.73,
          18.87,
          19.08,
          19.93,
          20.08,
          20.17,
          20.22,
          20.52,
          20.54,
          20.54,
          20.61,
          20.68,
          20.74,
          20.88,
          20.93,
          21.16,
          21.41,
          21.52,
          21.66,
          21.86,
          22.15,
          22.23,
          22.31,
          22.55,
          22.64,
          22.7,
          22.76,
          22.79,
          24.11,
          24.29,
          24.33,
          24.81,
          25.07,
          25.28,
          25.64,
          26.84,
          27.13,
          27.19,
          27.59,
          27.6,
          28.45,
          28.51,
          28.87,
          28.9,
          29.08,
          29.3,
          29.32,
          29.35,
          29.9,
          29.92,
          29.93,
          30.55,
          30.75,
          30.79,
          31.02,
          31.14,
          31.73,
          31.99,
          32.23,
          32.23,
          32.54,
          32.61,
          32.72,
          32.81,
          33.06,
          33.26,
          33.33,
          33.37,
          33.4,
          34.26,
          34.39,
          34.65,
          34.83,
          35.02,
          35.3,
          35.3,
          35.4,
          35.63,
          35.86,
          36.32,
          37.29,
          37.53,
          37.77,
          37.79,
          37.87,
          38.02,
          38.36,
          38.38,
          38.59,
          38.6,
          39.04,
          39.19,
          39.35,
          39.55,
          39.95,
          39.97,
          40.32,
          40.98,
          41.11,
          41.3,
          41.99,
          42.23,
          42.29,
          42.56,
          43.11,
          43.24,
          43.36,
          43.77,
          43.92,
          44.35,
          44.4,
          44.8,
          44.86,
          45.04,
          45.09,
          45.17,
          45.49,
          45.6,
          46.08,
          46.37,
          46.58,
          46.63,
          46.78,
          47.08,
          47.32,
          47.38,
          47.4,
          47.48,
          47.98,
          48.02,
          48.39,
          48.53,
          48.56,
          48.91,
          48.93,
          49.04,
          49.08,
          49.28
         ],
         "xaxis": "x",
         "y": [
          2022.1567329083416,
          2022.159538006945,
          2022.1614080726806,
          2022.1648988620539,
          2022.1658338949217,
          2022.1696986974418,
          2022.1709454079323,
          2022.1734388289133,
          2022.1748725459772,
          2022.1768049472373,
          2022.177241295909,
          2022.1784256708747,
          2022.1817294536745,
          2022.1821034668214,
          2022.183100835214,
          2022.1834125128364,
          2022.1836618549346,
          2022.185282578572,
          2022.1880876771756,
          2022.1880876771756,
          2022.1882746837491,
          2022.1918901441713,
          2022.1963159664122,
          2022.1967523150838,
          2022.1998067557854,
          2022.201676821521,
          2022.2033598806831,
          2022.2057286306149,
          2022.2058533016639,
          2022.2066013279582,
          2022.2084090581693,
          2022.2096557686598,
          2022.2143932685233,
          2022.2148919527194,
          2022.2195671170584,
          2022.2217488604167,
          2022.2223098801373,
          2022.2231825774807,
          2022.2248033011183,
          2022.2255513274124,
          2022.2276707352462,
          2022.2276707352462,
          2022.2284187615405,
          2022.2301018207024,
          2022.2317848798646,
          2022.231971886438,
          2022.233405603502,
          2022.2335302745512,
          2022.2366470507773,
          2022.2368340573507,
          2022.2370210639242,
          2022.2383301099392,
          2022.2405118532974,
          2022.240948201969,
          2022.2445013268668,
          2022.245000011063,
          2022.251607576662,
          2022.2536646489714,
          2022.2544126752655,
          2022.2571554383444,
          2022.2594618527517,
          2022.2604592211442,
          2022.2661317538755,
          2022.2670044512188,
          2022.2683134972337,
          2022.2736120168179,
          2022.2745470496857,
          2022.2751080694065,
          2022.275419747029,
          2022.2772898127646,
          2022.2774144838138,
          2022.2774144838138,
          2022.2778508324852,
          2022.2782871811569,
          2022.278661194304,
          2022.2795338916474,
          2022.27984556927,
          2022.281279286334,
          2022.282837674447,
          2022.2835233652168,
          2022.28439606256,
          2022.2856427730505,
          2022.2874505032614,
          2022.2879491874578,
          2022.288447871654,
          2022.2899439242424,
          2022.290504943963,
          2022.2908789571102,
          2022.2912529702573,
          2022.2914399768308,
          2022.2996682660676,
          2022.300790305509,
          2022.301039647607,
          2022.304031752784,
          2022.3056524764215,
          2022.3069615224365,
          2022.3092056013193,
          2022.3166858642617,
          2022.3184935944728,
          2022.31886760762,
          2022.3213610286007,
          2022.3214233641254,
          2022.3267218837095,
          2022.3270958968567,
          2022.3293399757395,
          2022.329526982313,
          2022.3306490217544,
          2022.3320204032939,
          2022.3321450743429,
          2022.3323320809163,
          2022.335760534765,
          2022.335885205814,
          2022.3359475413386,
          2022.339812343859,
          2022.3410590543492,
          2022.3413083964474,
          2022.3427421135113,
          2022.3434901398057,
          2022.3471679357524,
          2022.3487886593898,
          2022.3502847119785,
          2022.3502847119785,
          2022.3522171132386,
          2022.3526534619102,
          2022.3533391526798,
          2022.3539001724007,
          2022.3554585605136,
          2022.356705271004,
          2022.3571416196758,
          2022.3573909617737,
          2022.3575779683474,
          2022.362938823456,
          2022.3637491852749,
          2022.3653699089125,
          2022.3664919483538,
          2022.3676763233198,
          2022.3694217180062,
          2022.3694217180062,
          2022.3700450732515,
          2022.3714787903155,
          2022.3729125073794,
          2022.3757799415073,
          2022.3818264873858,
          2022.3833225399744,
          2022.3848185925629,
          2022.3849432636118,
          2022.385441947808,
          2022.3863769806758,
          2022.3884963885096,
          2022.3886210595585,
          2022.3899301055735,
          2022.389992441098,
          2022.392735204177,
          2022.3936702370447,
          2022.3946676054372,
          2022.3959143159275,
          2022.3984077369084,
          2022.3985324079574,
          2022.4007141513157,
          2022.404828295934,
          2022.4056386577527,
          2022.4068230327186,
          2022.4111241839105,
          2022.4126202364992,
          2022.4129942496463,
          2022.4146773088082,
          2022.418105762657,
          2022.4189161244756,
          2022.41966415077,
          2022.4222199072753,
          2022.4231549401431,
          2022.4258353676976,
          2022.42614704532,
          2022.428640466301,
          2022.4290144794481,
          2022.4301365188894,
          2022.430448196512,
          2022.4309468807082,
          2022.4329416174928,
          2022.4336273082627,
          2022.4366194134395,
          2022.4384271436506,
          2022.4397361896656,
          2022.4400478672883,
          2022.440982900156,
          2022.4428529658917,
          2022.4443490184801,
          2022.4447230316273,
          2022.4448477026763,
          2022.4453463868724,
          2022.4484631630985,
          2022.4487125051967,
          2022.451018919604,
          2022.451891616947,
          2022.4520786235207,
          2022.454260366879,
          2022.454385037928,
          2022.4550707286976,
          2022.4553200707958,
          2022.4565667812863
         ],
         "yaxis": "y"
        }
       ],
       "layout": {
        "coloraxis": {
         "colorbar": {
          "title": {
           "text": "AI Adoption Rate (%)"
          }
         },
         "colorscale": [
          [
           0,
           "#0d0887"
          ],
          [
           0.1111111111111111,
           "#46039f"
          ],
          [
           0.2222222222222222,
           "#7201a8"
          ],
          [
           0.3333333333333333,
           "#9c179e"
          ],
          [
           0.4444444444444444,
           "#bd3786"
          ],
          [
           0.5555555555555556,
           "#d8576b"
          ],
          [
           0.6666666666666666,
           "#ed7953"
          ],
          [
           0.7777777777777778,
           "#fb9f3a"
          ],
          [
           0.8888888888888888,
           "#fdca26"
          ],
          [
           1,
           "#f0f921"
          ]
         ]
        },
        "legend": {
         "tracegroupgap": 0
        },
        "margin": {
         "t": 60
        },
        "template": {
         "data": {
          "bar": [
           {
            "error_x": {
             "color": "#2a3f5f"
            },
            "error_y": {
             "color": "#2a3f5f"
            },
            "marker": {
             "line": {
              "color": "#E5ECF6",
              "width": 0.5
             },
             "pattern": {
              "fillmode": "overlay",
              "size": 10,
              "solidity": 0.2
             }
            },
            "type": "bar"
           }
          ],
          "barpolar": [
           {
            "marker": {
             "line": {
              "color": "#E5ECF6",
              "width": 0.5
             },
             "pattern": {
              "fillmode": "overlay",
              "size": 10,
              "solidity": 0.2
             }
            },
            "type": "barpolar"
           }
          ],
          "carpet": [
           {
            "aaxis": {
             "endlinecolor": "#2a3f5f",
             "gridcolor": "white",
             "linecolor": "white",
             "minorgridcolor": "white",
             "startlinecolor": "#2a3f5f"
            },
            "baxis": {
             "endlinecolor": "#2a3f5f",
             "gridcolor": "white",
             "linecolor": "white",
             "minorgridcolor": "white",
             "startlinecolor": "#2a3f5f"
            },
            "type": "carpet"
           }
          ],
          "choropleth": [
           {
            "colorbar": {
             "outlinewidth": 0,
             "ticks": ""
            },
            "type": "choropleth"
           }
          ],
          "contour": [
           {
            "colorbar": {
             "outlinewidth": 0,
             "ticks": ""
            },
            "colorscale": [
             [
              0,
              "#0d0887"
             ],
             [
              0.1111111111111111,
              "#46039f"
             ],
             [
              0.2222222222222222,
              "#7201a8"
             ],
             [
              0.3333333333333333,
              "#9c179e"
             ],
             [
              0.4444444444444444,
              "#bd3786"
             ],
             [
              0.5555555555555556,
              "#d8576b"
             ],
             [
              0.6666666666666666,
              "#ed7953"
             ],
             [
              0.7777777777777778,
              "#fb9f3a"
             ],
             [
              0.8888888888888888,
              "#fdca26"
             ],
             [
              1,
              "#f0f921"
             ]
            ],
            "type": "contour"
           }
          ],
          "contourcarpet": [
           {
            "colorbar": {
             "outlinewidth": 0,
             "ticks": ""
            },
            "type": "contourcarpet"
           }
          ],
          "heatmap": [
           {
            "colorbar": {
             "outlinewidth": 0,
             "ticks": ""
            },
            "colorscale": [
             [
              0,
              "#0d0887"
             ],
             [
              0.1111111111111111,
              "#46039f"
             ],
             [
              0.2222222222222222,
              "#7201a8"
             ],
             [
              0.3333333333333333,
              "#9c179e"
             ],
             [
              0.4444444444444444,
              "#bd3786"
             ],
             [
              0.5555555555555556,
              "#d8576b"
             ],
             [
              0.6666666666666666,
              "#ed7953"
             ],
             [
              0.7777777777777778,
              "#fb9f3a"
             ],
             [
              0.8888888888888888,
              "#fdca26"
             ],
             [
              1,
              "#f0f921"
             ]
            ],
            "type": "heatmap"
           }
          ],
          "heatmapgl": [
           {
            "colorbar": {
             "outlinewidth": 0,
             "ticks": ""
            },
            "colorscale": [
             [
              0,
              "#0d0887"
             ],
             [
              0.1111111111111111,
              "#46039f"
             ],
             [
              0.2222222222222222,
              "#7201a8"
             ],
             [
              0.3333333333333333,
              "#9c179e"
             ],
             [
              0.4444444444444444,
              "#bd3786"
             ],
             [
              0.5555555555555556,
              "#d8576b"
             ],
             [
              0.6666666666666666,
              "#ed7953"
             ],
             [
              0.7777777777777778,
              "#fb9f3a"
             ],
             [
              0.8888888888888888,
              "#fdca26"
             ],
             [
              1,
              "#f0f921"
             ]
            ],
            "type": "heatmapgl"
           }
          ],
          "histogram": [
           {
            "marker": {
             "pattern": {
              "fillmode": "overlay",
              "size": 10,
              "solidity": 0.2
             }
            },
            "type": "histogram"
           }
          ],
          "histogram2d": [
           {
            "colorbar": {
             "outlinewidth": 0,
             "ticks": ""
            },
            "colorscale": [
             [
              0,
              "#0d0887"
             ],
             [
              0.1111111111111111,
              "#46039f"
             ],
             [
              0.2222222222222222,
              "#7201a8"
             ],
             [
              0.3333333333333333,
              "#9c179e"
             ],
             [
              0.4444444444444444,
              "#bd3786"
             ],
             [
              0.5555555555555556,
              "#d8576b"
             ],
             [
              0.6666666666666666,
              "#ed7953"
             ],
             [
              0.7777777777777778,
              "#fb9f3a"
             ],
             [
              0.8888888888888888,
              "#fdca26"
             ],
             [
              1,
              "#f0f921"
             ]
            ],
            "type": "histogram2d"
           }
          ],
          "histogram2dcontour": [
           {
            "colorbar": {
             "outlinewidth": 0,
             "ticks": ""
            },
            "colorscale": [
             [
              0,
              "#0d0887"
             ],
             [
              0.1111111111111111,
              "#46039f"
             ],
             [
              0.2222222222222222,
              "#7201a8"
             ],
             [
              0.3333333333333333,
              "#9c179e"
             ],
             [
              0.4444444444444444,
              "#bd3786"
             ],
             [
              0.5555555555555556,
              "#d8576b"
             ],
             [
              0.6666666666666666,
              "#ed7953"
             ],
             [
              0.7777777777777778,
              "#fb9f3a"
             ],
             [
              0.8888888888888888,
              "#fdca26"
             ],
             [
              1,
              "#f0f921"
             ]
            ],
            "type": "histogram2dcontour"
           }
          ],
          "mesh3d": [
           {
            "colorbar": {
             "outlinewidth": 0,
             "ticks": ""
            },
            "type": "mesh3d"
           }
          ],
          "parcoords": [
           {
            "line": {
             "colorbar": {
              "outlinewidth": 0,
              "ticks": ""
             }
            },
            "type": "parcoords"
           }
          ],
          "pie": [
           {
            "automargin": true,
            "type": "pie"
           }
          ],
          "scatter": [
           {
            "fillpattern": {
             "fillmode": "overlay",
             "size": 10,
             "solidity": 0.2
            },
            "type": "scatter"
           }
          ],
          "scatter3d": [
           {
            "line": {
             "colorbar": {
              "outlinewidth": 0,
              "ticks": ""
             }
            },
            "marker": {
             "colorbar": {
              "outlinewidth": 0,
              "ticks": ""
             }
            },
            "type": "scatter3d"
           }
          ],
          "scattercarpet": [
           {
            "marker": {
             "colorbar": {
              "outlinewidth": 0,
              "ticks": ""
             }
            },
            "type": "scattercarpet"
           }
          ],
          "scattergeo": [
           {
            "marker": {
             "colorbar": {
              "outlinewidth": 0,
              "ticks": ""
             }
            },
            "type": "scattergeo"
           }
          ],
          "scattergl": [
           {
            "marker": {
             "colorbar": {
              "outlinewidth": 0,
              "ticks": ""
             }
            },
            "type": "scattergl"
           }
          ],
          "scattermapbox": [
           {
            "marker": {
             "colorbar": {
              "outlinewidth": 0,
              "ticks": ""
             }
            },
            "type": "scattermapbox"
           }
          ],
          "scatterpolar": [
           {
            "marker": {
             "colorbar": {
              "outlinewidth": 0,
              "ticks": ""
             }
            },
            "type": "scatterpolar"
           }
          ],
          "scatterpolargl": [
           {
            "marker": {
             "colorbar": {
              "outlinewidth": 0,
              "ticks": ""
             }
            },
            "type": "scatterpolargl"
           }
          ],
          "scatterternary": [
           {
            "marker": {
             "colorbar": {
              "outlinewidth": 0,
              "ticks": ""
             }
            },
            "type": "scatterternary"
           }
          ],
          "surface": [
           {
            "colorbar": {
             "outlinewidth": 0,
             "ticks": ""
            },
            "colorscale": [
             [
              0,
              "#0d0887"
             ],
             [
              0.1111111111111111,
              "#46039f"
             ],
             [
              0.2222222222222222,
              "#7201a8"
             ],
             [
              0.3333333333333333,
              "#9c179e"
             ],
             [
              0.4444444444444444,
              "#bd3786"
             ],
             [
              0.5555555555555556,
              "#d8576b"
             ],
             [
              0.6666666666666666,
              "#ed7953"
             ],
             [
              0.7777777777777778,
              "#fb9f3a"
             ],
             [
              0.8888888888888888,
              "#fdca26"
             ],
             [
              1,
              "#f0f921"
             ]
            ],
            "type": "surface"
           }
          ],
          "table": [
           {
            "cells": {
             "fill": {
              "color": "#EBF0F8"
             },
             "line": {
              "color": "white"
             }
            },
            "header": {
             "fill": {
              "color": "#C8D4E3"
             },
             "line": {
              "color": "white"
             }
            },
            "type": "table"
           }
          ]
         },
         "layout": {
          "annotationdefaults": {
           "arrowcolor": "#2a3f5f",
           "arrowhead": 0,
           "arrowwidth": 1
          },
          "autotypenumbers": "strict",
          "coloraxis": {
           "colorbar": {
            "outlinewidth": 0,
            "ticks": ""
           }
          },
          "colorscale": {
           "diverging": [
            [
             0,
             "#8e0152"
            ],
            [
             0.1,
             "#c51b7d"
            ],
            [
             0.2,
             "#de77ae"
            ],
            [
             0.3,
             "#f1b6da"
            ],
            [
             0.4,
             "#fde0ef"
            ],
            [
             0.5,
             "#f7f7f7"
            ],
            [
             0.6,
             "#e6f5d0"
            ],
            [
             0.7,
             "#b8e186"
            ],
            [
             0.8,
             "#7fbc41"
            ],
            [
             0.9,
             "#4d9221"
            ],
            [
             1,
             "#276419"
            ]
           ],
           "sequential": [
            [
             0,
             "#0d0887"
            ],
            [
             0.1111111111111111,
             "#46039f"
            ],
            [
             0.2222222222222222,
             "#7201a8"
            ],
            [
             0.3333333333333333,
             "#9c179e"
            ],
            [
             0.4444444444444444,
             "#bd3786"
            ],
            [
             0.5555555555555556,
             "#d8576b"
            ],
            [
             0.6666666666666666,
             "#ed7953"
            ],
            [
             0.7777777777777778,
             "#fb9f3a"
            ],
            [
             0.8888888888888888,
             "#fdca26"
            ],
            [
             1,
             "#f0f921"
            ]
           ],
           "sequentialminus": [
            [
             0,
             "#0d0887"
            ],
            [
             0.1111111111111111,
             "#46039f"
            ],
            [
             0.2222222222222222,
             "#7201a8"
            ],
            [
             0.3333333333333333,
             "#9c179e"
            ],
            [
             0.4444444444444444,
             "#bd3786"
            ],
            [
             0.5555555555555556,
             "#d8576b"
            ],
            [
             0.6666666666666666,
             "#ed7953"
            ],
            [
             0.7777777777777778,
             "#fb9f3a"
            ],
            [
             0.8888888888888888,
             "#fdca26"
            ],
            [
             1,
             "#f0f921"
            ]
           ]
          },
          "colorway": [
           "#636efa",
           "#EF553B",
           "#00cc96",
           "#ab63fa",
           "#FFA15A",
           "#19d3f3",
           "#FF6692",
           "#B6E880",
           "#FF97FF",
           "#FECB52"
          ],
          "font": {
           "color": "#2a3f5f"
          },
          "geo": {
           "bgcolor": "white",
           "lakecolor": "white",
           "landcolor": "#E5ECF6",
           "showlakes": true,
           "showland": true,
           "subunitcolor": "white"
          },
          "hoverlabel": {
           "align": "left"
          },
          "hovermode": "closest",
          "mapbox": {
           "style": "light"
          },
          "paper_bgcolor": "white",
          "plot_bgcolor": "#E5ECF6",
          "polar": {
           "angularaxis": {
            "gridcolor": "white",
            "linecolor": "white",
            "ticks": ""
           },
           "bgcolor": "#E5ECF6",
           "radialaxis": {
            "gridcolor": "white",
            "linecolor": "white",
            "ticks": ""
           }
          },
          "scene": {
           "xaxis": {
            "backgroundcolor": "#E5ECF6",
            "gridcolor": "white",
            "gridwidth": 2,
            "linecolor": "white",
            "showbackground": true,
            "ticks": "",
            "zerolinecolor": "white"
           },
           "yaxis": {
            "backgroundcolor": "#E5ECF6",
            "gridcolor": "white",
            "gridwidth": 2,
            "linecolor": "white",
            "showbackground": true,
            "ticks": "",
            "zerolinecolor": "white"
           },
           "zaxis": {
            "backgroundcolor": "#E5ECF6",
            "gridcolor": "white",
            "gridwidth": 2,
            "linecolor": "white",
            "showbackground": true,
            "ticks": "",
            "zerolinecolor": "white"
           }
          },
          "shapedefaults": {
           "line": {
            "color": "#2a3f5f"
           }
          },
          "ternary": {
           "aaxis": {
            "gridcolor": "white",
            "linecolor": "white",
            "ticks": ""
           },
           "baxis": {
            "gridcolor": "white",
            "linecolor": "white",
            "ticks": ""
           },
           "bgcolor": "#E5ECF6",
           "caxis": {
            "gridcolor": "white",
            "linecolor": "white",
            "ticks": ""
           }
          },
          "title": {
           "x": 0.05
          },
          "xaxis": {
           "automargin": true,
           "gridcolor": "white",
           "linecolor": "white",
           "ticks": "",
           "title": {
            "standoff": 15
           },
           "zerolinecolor": "white",
           "zerolinewidth": 2
          },
          "yaxis": {
           "automargin": true,
           "gridcolor": "white",
           "linecolor": "white",
           "ticks": "",
           "title": {
            "standoff": 15
           },
           "zerolinecolor": "white",
           "zerolinewidth": 2
          }
         }
        },
        "xaxis": {
         "anchor": "y",
         "domain": [
          0,
          1
         ],
         "title": {
          "text": "Market Share of AI Companies (%)"
         }
        },
        "yaxis": {
         "anchor": "x",
         "domain": [
          0,
          1
         ],
         "title": {
          "text": "Year"
         }
        }
       }
      }
     },
     "metadata": {},
     "output_type": "display_data"
    }
   ],
   "source": [
    "fig = px.scatter(df ,x='Market Share of AI Companies (%)',\n",
    "                y='Year',\n",
    "                color='AI Adoption Rate (%)',\n",
    "                hover_data='Market Share of AI Companies (%)',\n",
    "                hover_name='Country' ,\n",
    "                trendline=\"ols\")\n",
    "fig.show()\n"
   ]
  },
  {
   "cell_type": "code",
   "execution_count": 44,
   "metadata": {},
   "outputs": [
    {
     "data": {
      "text/html": [
       "<div>\n",
       "<style scoped>\n",
       "    .dataframe tbody tr th:only-of-type {\n",
       "        vertical-align: middle;\n",
       "    }\n",
       "\n",
       "    .dataframe tbody tr th {\n",
       "        vertical-align: top;\n",
       "    }\n",
       "\n",
       "    .dataframe thead th {\n",
       "        text-align: right;\n",
       "    }\n",
       "</style>\n",
       "<table border=\"1\" class=\"dataframe\">\n",
       "  <thead>\n",
       "    <tr style=\"text-align: right;\">\n",
       "      <th></th>\n",
       "      <th>Country</th>\n",
       "      <th>Year</th>\n",
       "      <th>Industry</th>\n",
       "      <th>AI Adoption Rate (%)</th>\n",
       "      <th>AI-Generated Content Volume (TBs per year)</th>\n",
       "      <th>Job Loss Due to AI (%)</th>\n",
       "      <th>Revenue Increase Due to AI (%)</th>\n",
       "      <th>Human-AI Collaboration Rate (%)</th>\n",
       "      <th>Top AI Tools Used</th>\n",
       "      <th>Regulation Status</th>\n",
       "      <th>Consumer Trust in AI (%)</th>\n",
       "      <th>Market Share of AI Companies (%)</th>\n",
       "    </tr>\n",
       "  </thead>\n",
       "  <tbody>\n",
       "    <tr>\n",
       "      <th>0</th>\n",
       "      <td>South Korea</td>\n",
       "      <td>2022</td>\n",
       "      <td>Media</td>\n",
       "      <td>44.29</td>\n",
       "      <td>33.09</td>\n",
       "      <td>16.77</td>\n",
       "      <td>46.12</td>\n",
       "      <td>74.79</td>\n",
       "      <td>Bard</td>\n",
       "      <td>Strict</td>\n",
       "      <td>40.77</td>\n",
       "      <td>18.73</td>\n",
       "    </tr>\n",
       "    <tr>\n",
       "      <th>1</th>\n",
       "      <td>China</td>\n",
       "      <td>2025</td>\n",
       "      <td>Legal</td>\n",
       "      <td>34.75</td>\n",
       "      <td>66.74</td>\n",
       "      <td>46.89</td>\n",
       "      <td>52.46</td>\n",
       "      <td>26.17</td>\n",
       "      <td>DALL-E</td>\n",
       "      <td>Strict</td>\n",
       "      <td>35.67</td>\n",
       "      <td>35.02</td>\n",
       "    </tr>\n",
       "    <tr>\n",
       "      <th>2</th>\n",
       "      <td>USA</td>\n",
       "      <td>2022</td>\n",
       "      <td>Automotive</td>\n",
       "      <td>81.06</td>\n",
       "      <td>96.13</td>\n",
       "      <td>10.66</td>\n",
       "      <td>45.60</td>\n",
       "      <td>39.66</td>\n",
       "      <td>Stable Diffusion</td>\n",
       "      <td>Moderate</td>\n",
       "      <td>54.47</td>\n",
       "      <td>22.76</td>\n",
       "    </tr>\n",
       "    <tr>\n",
       "      <th>3</th>\n",
       "      <td>France</td>\n",
       "      <td>2021</td>\n",
       "      <td>Legal</td>\n",
       "      <td>85.24</td>\n",
       "      <td>93.76</td>\n",
       "      <td>27.70</td>\n",
       "      <td>78.24</td>\n",
       "      <td>29.45</td>\n",
       "      <td>Claude</td>\n",
       "      <td>Moderate</td>\n",
       "      <td>51.84</td>\n",
       "      <td>1.93</td>\n",
       "    </tr>\n",
       "    <tr>\n",
       "      <th>4</th>\n",
       "      <td>France</td>\n",
       "      <td>2021</td>\n",
       "      <td>Gaming</td>\n",
       "      <td>78.95</td>\n",
       "      <td>45.62</td>\n",
       "      <td>17.45</td>\n",
       "      <td>1.05</td>\n",
       "      <td>21.70</td>\n",
       "      <td>Midjourney</td>\n",
       "      <td>Strict</td>\n",
       "      <td>41.77</td>\n",
       "      <td>21.41</td>\n",
       "    </tr>\n",
       "  </tbody>\n",
       "</table>\n",
       "</div>"
      ],
      "text/plain": [
       "       Country  Year    Industry  AI Adoption Rate (%)  \\\n",
       "0  South Korea  2022       Media                 44.29   \n",
       "1        China  2025       Legal                 34.75   \n",
       "2          USA  2022  Automotive                 81.06   \n",
       "3       France  2021       Legal                 85.24   \n",
       "4       France  2021      Gaming                 78.95   \n",
       "\n",
       "   AI-Generated Content Volume (TBs per year)  Job Loss Due to AI (%)  \\\n",
       "0                                       33.09                   16.77   \n",
       "1                                       66.74                   46.89   \n",
       "2                                       96.13                   10.66   \n",
       "3                                       93.76                   27.70   \n",
       "4                                       45.62                   17.45   \n",
       "\n",
       "   Revenue Increase Due to AI (%)  Human-AI Collaboration Rate (%)  \\\n",
       "0                           46.12                            74.79   \n",
       "1                           52.46                            26.17   \n",
       "2                           45.60                            39.66   \n",
       "3                           78.24                            29.45   \n",
       "4                            1.05                            21.70   \n",
       "\n",
       "  Top AI Tools Used Regulation Status  Consumer Trust in AI (%)  \\\n",
       "0              Bard            Strict                     40.77   \n",
       "1            DALL-E            Strict                     35.67   \n",
       "2  Stable Diffusion          Moderate                     54.47   \n",
       "3            Claude          Moderate                     51.84   \n",
       "4        Midjourney            Strict                     41.77   \n",
       "\n",
       "   Market Share of AI Companies (%)  \n",
       "0                             18.73  \n",
       "1                             35.02  \n",
       "2                             22.76  \n",
       "3                              1.93  \n",
       "4                             21.41  "
      ]
     },
     "execution_count": 44,
     "metadata": {},
     "output_type": "execute_result"
    }
   ],
   "source": [
    "df.head()"
   ]
  },
  {
   "cell_type": "code",
   "execution_count": 45,
   "metadata": {},
   "outputs": [
    {
     "data": {
      "text/plain": [
       "Country                                       0\n",
       "Year                                          0\n",
       "Industry                                      0\n",
       "AI Adoption Rate (%)                          0\n",
       "AI-Generated Content Volume (TBs per year)    0\n",
       "Job Loss Due to AI (%)                        0\n",
       "Revenue Increase Due to AI (%)                0\n",
       "Human-AI Collaboration Rate (%)               0\n",
       "Top AI Tools Used                             0\n",
       "Regulation Status                             0\n",
       "Consumer Trust in AI (%)                      0\n",
       "Market Share of AI Companies (%)              0\n",
       "dtype: int64"
      ]
     },
     "execution_count": 45,
     "metadata": {},
     "output_type": "execute_result"
    }
   ],
   "source": [
    "df.isnull().sum()"
   ]
  },
  {
   "cell_type": "code",
   "execution_count": 46,
   "metadata": {},
   "outputs": [],
   "source": [
    "from sklearn.preprocessing import LabelEncoder"
   ]
  },
  {
   "cell_type": "code",
   "execution_count": 47,
   "metadata": {},
   "outputs": [],
   "source": [
    "lb = LabelEncoder()"
   ]
  },
  {
   "cell_type": "code",
   "execution_count": 48,
   "metadata": {},
   "outputs": [
    {
     "data": {
      "text/html": [
       "<div>\n",
       "<style scoped>\n",
       "    .dataframe tbody tr th:only-of-type {\n",
       "        vertical-align: middle;\n",
       "    }\n",
       "\n",
       "    .dataframe tbody tr th {\n",
       "        vertical-align: top;\n",
       "    }\n",
       "\n",
       "    .dataframe thead th {\n",
       "        text-align: right;\n",
       "    }\n",
       "</style>\n",
       "<table border=\"1\" class=\"dataframe\">\n",
       "  <thead>\n",
       "    <tr style=\"text-align: right;\">\n",
       "      <th></th>\n",
       "      <th>Country</th>\n",
       "      <th>Year</th>\n",
       "      <th>Industry</th>\n",
       "      <th>AI Adoption Rate (%)</th>\n",
       "      <th>AI-Generated Content Volume (TBs per year)</th>\n",
       "      <th>Job Loss Due to AI (%)</th>\n",
       "      <th>Revenue Increase Due to AI (%)</th>\n",
       "      <th>Human-AI Collaboration Rate (%)</th>\n",
       "      <th>Top AI Tools Used</th>\n",
       "      <th>Regulation Status</th>\n",
       "      <th>Consumer Trust in AI (%)</th>\n",
       "      <th>Market Share of AI Companies (%)</th>\n",
       "    </tr>\n",
       "  </thead>\n",
       "  <tbody>\n",
       "    <tr>\n",
       "      <th>0</th>\n",
       "      <td>South Korea</td>\n",
       "      <td>2022</td>\n",
       "      <td>Media</td>\n",
       "      <td>44.29</td>\n",
       "      <td>33.09</td>\n",
       "      <td>16.77</td>\n",
       "      <td>46.12</td>\n",
       "      <td>74.79</td>\n",
       "      <td>Bard</td>\n",
       "      <td>Strict</td>\n",
       "      <td>40.77</td>\n",
       "      <td>18.73</td>\n",
       "    </tr>\n",
       "    <tr>\n",
       "      <th>1</th>\n",
       "      <td>China</td>\n",
       "      <td>2025</td>\n",
       "      <td>Legal</td>\n",
       "      <td>34.75</td>\n",
       "      <td>66.74</td>\n",
       "      <td>46.89</td>\n",
       "      <td>52.46</td>\n",
       "      <td>26.17</td>\n",
       "      <td>DALL-E</td>\n",
       "      <td>Strict</td>\n",
       "      <td>35.67</td>\n",
       "      <td>35.02</td>\n",
       "    </tr>\n",
       "    <tr>\n",
       "      <th>2</th>\n",
       "      <td>USA</td>\n",
       "      <td>2022</td>\n",
       "      <td>Automotive</td>\n",
       "      <td>81.06</td>\n",
       "      <td>96.13</td>\n",
       "      <td>10.66</td>\n",
       "      <td>45.60</td>\n",
       "      <td>39.66</td>\n",
       "      <td>Stable Diffusion</td>\n",
       "      <td>Moderate</td>\n",
       "      <td>54.47</td>\n",
       "      <td>22.76</td>\n",
       "    </tr>\n",
       "    <tr>\n",
       "      <th>3</th>\n",
       "      <td>France</td>\n",
       "      <td>2021</td>\n",
       "      <td>Legal</td>\n",
       "      <td>85.24</td>\n",
       "      <td>93.76</td>\n",
       "      <td>27.70</td>\n",
       "      <td>78.24</td>\n",
       "      <td>29.45</td>\n",
       "      <td>Claude</td>\n",
       "      <td>Moderate</td>\n",
       "      <td>51.84</td>\n",
       "      <td>1.93</td>\n",
       "    </tr>\n",
       "    <tr>\n",
       "      <th>4</th>\n",
       "      <td>France</td>\n",
       "      <td>2021</td>\n",
       "      <td>Gaming</td>\n",
       "      <td>78.95</td>\n",
       "      <td>45.62</td>\n",
       "      <td>17.45</td>\n",
       "      <td>1.05</td>\n",
       "      <td>21.70</td>\n",
       "      <td>Midjourney</td>\n",
       "      <td>Strict</td>\n",
       "      <td>41.77</td>\n",
       "      <td>21.41</td>\n",
       "    </tr>\n",
       "  </tbody>\n",
       "</table>\n",
       "</div>"
      ],
      "text/plain": [
       "       Country  Year    Industry  AI Adoption Rate (%)  \\\n",
       "0  South Korea  2022       Media                 44.29   \n",
       "1        China  2025       Legal                 34.75   \n",
       "2          USA  2022  Automotive                 81.06   \n",
       "3       France  2021       Legal                 85.24   \n",
       "4       France  2021      Gaming                 78.95   \n",
       "\n",
       "   AI-Generated Content Volume (TBs per year)  Job Loss Due to AI (%)  \\\n",
       "0                                       33.09                   16.77   \n",
       "1                                       66.74                   46.89   \n",
       "2                                       96.13                   10.66   \n",
       "3                                       93.76                   27.70   \n",
       "4                                       45.62                   17.45   \n",
       "\n",
       "   Revenue Increase Due to AI (%)  Human-AI Collaboration Rate (%)  \\\n",
       "0                           46.12                            74.79   \n",
       "1                           52.46                            26.17   \n",
       "2                           45.60                            39.66   \n",
       "3                           78.24                            29.45   \n",
       "4                            1.05                            21.70   \n",
       "\n",
       "  Top AI Tools Used Regulation Status  Consumer Trust in AI (%)  \\\n",
       "0              Bard            Strict                     40.77   \n",
       "1            DALL-E            Strict                     35.67   \n",
       "2  Stable Diffusion          Moderate                     54.47   \n",
       "3            Claude          Moderate                     51.84   \n",
       "4        Midjourney            Strict                     41.77   \n",
       "\n",
       "   Market Share of AI Companies (%)  \n",
       "0                             18.73  \n",
       "1                             35.02  \n",
       "2                             22.76  \n",
       "3                              1.93  \n",
       "4                             21.41  "
      ]
     },
     "execution_count": 48,
     "metadata": {},
     "output_type": "execute_result"
    }
   ],
   "source": [
    "df.head()"
   ]
  },
  {
   "cell_type": "code",
   "execution_count": 49,
   "metadata": {},
   "outputs": [],
   "source": [
    "df['Country'] =lb.fit_transform(df['Country'])\n",
    "df['Top AI Tools Used'] =lb.fit_transform(df['Top AI Tools Used'])\n",
    "df['Regulation Status'] =lb.fit_transform(df['Regulation Status'])\n"
   ]
  },
  {
   "cell_type": "code",
   "execution_count": 50,
   "metadata": {},
   "outputs": [],
   "source": [
    "x = df.drop(columns = ['Consumer Trust in AI (%)'])\n",
    "y = df['Consumer Trust in AI (%)']"
   ]
  },
  {
   "cell_type": "code",
   "execution_count": 51,
   "metadata": {},
   "outputs": [],
   "source": [
    "from sklearn.model_selection import train_test_split"
   ]
  },
  {
   "cell_type": "code",
   "execution_count": null,
   "metadata": {},
   "outputs": [
    {
     "ename": "NameError",
     "evalue": "name 'x_train' is not defined",
     "output_type": "error",
     "traceback": [
      "\u001b[1;31m---------------------------------------------------------------------------\u001b[0m",
      "\u001b[1;31mNameError\u001b[0m                                 Traceback (most recent call last)",
      "Cell \u001b[1;32mIn[52], line 1\u001b[0m\n\u001b[1;32m----> 1\u001b[0m x_train\u001b[38;5;241m.\u001b[39mshape\n",
      "\u001b[1;31mNameError\u001b[0m: name 'x_train' is not defined"
     ]
    }
   ],
   "source": [
    "from sklearn.linear_model import LogisticRegression"
   ]
  }
 ],
 "metadata": {
  "kernelspec": {
   "display_name": "base",
   "language": "python",
   "name": "python3"
  },
  "language_info": {
   "codemirror_mode": {
    "name": "ipython",
    "version": 3
   },
   "file_extension": ".py",
   "mimetype": "text/x-python",
   "name": "python",
   "nbconvert_exporter": "python",
   "pygments_lexer": "ipython3",
   "version": "3.12.7"
  }
 },
 "nbformat": 4,
 "nbformat_minor": 2
}
